{
 "cells": [
  {
   "cell_type": "code",
   "execution_count": 1,
   "id": "double-warren",
   "metadata": {},
   "outputs": [],
   "source": [
    "import numpy as np\n",
    "import pandas as pd\n",
    "import matplotlib.pyplot as plt\n",
    "import seaborn as sns\n",
    "import graphviz\n",
    "from sklearn.tree import DecisionTreeClassifier, export_graphviz\n",
    "from sklearn import tree\n",
    "from sklearn.model_selection import train_test_split, GridSearchCV\n",
    "from sklearn.preprocessing import StandardScaler\n",
    "from sklearn.linear_model  import Ridge,Lasso,RidgeCV, LassoCV, ElasticNet, ElasticNetCV, LogisticRegression\n",
    "from sklearn.metrics import accuracy_score, confusion_matrix, roc_curve, roc_auc_score\n",
    "from six import StringIO\n",
    "from IPython.display import Image  \n",
    "from sklearn.tree import export_graphviz\n",
    "import pydotplus"
   ]
  },
  {
   "cell_type": "code",
   "execution_count": 2,
   "id": "macro-business",
   "metadata": {},
   "outputs": [],
   "source": [
    "df_test = pd.read_csv(\"test.csv\")\n",
    "df_train = pd.read_csv(\"train.csv\")"
   ]
  },
  {
   "cell_type": "code",
   "execution_count": 3,
   "id": "rocky-commitment",
   "metadata": {},
   "outputs": [
    {
     "data": {
      "text/html": [
       "<div>\n",
       "<style scoped>\n",
       "    .dataframe tbody tr th:only-of-type {\n",
       "        vertical-align: middle;\n",
       "    }\n",
       "\n",
       "    .dataframe tbody tr th {\n",
       "        vertical-align: top;\n",
       "    }\n",
       "\n",
       "    .dataframe thead th {\n",
       "        text-align: right;\n",
       "    }\n",
       "</style>\n",
       "<table border=\"1\" class=\"dataframe\">\n",
       "  <thead>\n",
       "    <tr style=\"text-align: right;\">\n",
       "      <th></th>\n",
       "      <th>id</th>\n",
       "      <th>gender</th>\n",
       "      <th>group</th>\n",
       "      <th>preparation rating</th>\n",
       "      <th>CSE1203 Discrete Mathematics score</th>\n",
       "      <th>EEE2142 Electronic Devices and Circuits' score</th>\n",
       "      <th>CSE2200 Software Development I's score</th>\n",
       "      <th>MATH2203 Mathematics IV's score</th>\n",
       "      <th>Admission Fees</th>\n",
       "      <th>Education Level of Parents</th>\n",
       "    </tr>\n",
       "  </thead>\n",
       "  <tbody>\n",
       "    <tr>\n",
       "      <th>0</th>\n",
       "      <td>800</td>\n",
       "      <td>male</td>\n",
       "      <td>A3</td>\n",
       "      <td>5</td>\n",
       "      <td>67</td>\n",
       "      <td>73</td>\n",
       "      <td>68</td>\n",
       "      <td>58</td>\n",
       "      <td>standard</td>\n",
       "      <td>ED</td>\n",
       "    </tr>\n",
       "    <tr>\n",
       "      <th>1</th>\n",
       "      <td>801</td>\n",
       "      <td>male</td>\n",
       "      <td>A3</td>\n",
       "      <td>5</td>\n",
       "      <td>76</td>\n",
       "      <td>80</td>\n",
       "      <td>73</td>\n",
       "      <td>74</td>\n",
       "      <td>standard</td>\n",
       "      <td>ED</td>\n",
       "    </tr>\n",
       "    <tr>\n",
       "      <th>2</th>\n",
       "      <td>802</td>\n",
       "      <td>female</td>\n",
       "      <td>group E</td>\n",
       "      <td>2</td>\n",
       "      <td>87</td>\n",
       "      <td>94</td>\n",
       "      <td>95</td>\n",
       "      <td>87</td>\n",
       "      <td>standard</td>\n",
       "      <td>associate's degree</td>\n",
       "    </tr>\n",
       "    <tr>\n",
       "      <th>3</th>\n",
       "      <td>803</td>\n",
       "      <td>female</td>\n",
       "      <td>A2</td>\n",
       "      <td>3</td>\n",
       "      <td>82</td>\n",
       "      <td>85</td>\n",
       "      <td>87</td>\n",
       "      <td>97</td>\n",
       "      <td>standard</td>\n",
       "      <td>CD</td>\n",
       "    </tr>\n",
       "    <tr>\n",
       "      <th>4</th>\n",
       "      <td>804</td>\n",
       "      <td>female</td>\n",
       "      <td>A3</td>\n",
       "      <td>4</td>\n",
       "      <td>73</td>\n",
       "      <td>76</td>\n",
       "      <td>78</td>\n",
       "      <td>68</td>\n",
       "      <td>standard</td>\n",
       "      <td>CD</td>\n",
       "    </tr>\n",
       "    <tr>\n",
       "      <th>...</th>\n",
       "      <td>...</td>\n",
       "      <td>...</td>\n",
       "      <td>...</td>\n",
       "      <td>...</td>\n",
       "      <td>...</td>\n",
       "      <td>...</td>\n",
       "      <td>...</td>\n",
       "      <td>...</td>\n",
       "      <td>...</td>\n",
       "      <td>...</td>\n",
       "    </tr>\n",
       "    <tr>\n",
       "      <th>195</th>\n",
       "      <td>995</td>\n",
       "      <td>female</td>\n",
       "      <td>group E</td>\n",
       "      <td>5</td>\n",
       "      <td>88</td>\n",
       "      <td>99</td>\n",
       "      <td>95</td>\n",
       "      <td>94</td>\n",
       "      <td>standard</td>\n",
       "      <td>master's degree</td>\n",
       "    </tr>\n",
       "    <tr>\n",
       "      <th>196</th>\n",
       "      <td>996</td>\n",
       "      <td>male</td>\n",
       "      <td>A3</td>\n",
       "      <td>4</td>\n",
       "      <td>62</td>\n",
       "      <td>55</td>\n",
       "      <td>55</td>\n",
       "      <td>60</td>\n",
       "      <td>free</td>\n",
       "      <td>ED</td>\n",
       "    </tr>\n",
       "    <tr>\n",
       "      <th>197</th>\n",
       "      <td>997</td>\n",
       "      <td>female</td>\n",
       "      <td>A3</td>\n",
       "      <td>5</td>\n",
       "      <td>59</td>\n",
       "      <td>71</td>\n",
       "      <td>65</td>\n",
       "      <td>69</td>\n",
       "      <td>free</td>\n",
       "      <td>ED</td>\n",
       "    </tr>\n",
       "    <tr>\n",
       "      <th>198</th>\n",
       "      <td>998</td>\n",
       "      <td>female</td>\n",
       "      <td>A4</td>\n",
       "      <td>5</td>\n",
       "      <td>68</td>\n",
       "      <td>78</td>\n",
       "      <td>77</td>\n",
       "      <td>87</td>\n",
       "      <td>standard</td>\n",
       "      <td>CD</td>\n",
       "    </tr>\n",
       "    <tr>\n",
       "      <th>199</th>\n",
       "      <td>999</td>\n",
       "      <td>female</td>\n",
       "      <td>A4</td>\n",
       "      <td>2</td>\n",
       "      <td>77</td>\n",
       "      <td>86</td>\n",
       "      <td>86</td>\n",
       "      <td>80</td>\n",
       "      <td>free</td>\n",
       "      <td>CD</td>\n",
       "    </tr>\n",
       "  </tbody>\n",
       "</table>\n",
       "<p>200 rows × 10 columns</p>\n",
       "</div>"
      ],
      "text/plain": [
       "      id  gender    group  preparation rating  \\\n",
       "0    800    male       A3                   5   \n",
       "1    801    male       A3                   5   \n",
       "2    802  female  group E                   2   \n",
       "3    803  female       A2                   3   \n",
       "4    804  female       A3                   4   \n",
       "..   ...     ...      ...                 ...   \n",
       "195  995  female  group E                   5   \n",
       "196  996    male       A3                   4   \n",
       "197  997  female       A3                   5   \n",
       "198  998  female       A4                   5   \n",
       "199  999  female       A4                   2   \n",
       "\n",
       "     CSE1203 Discrete Mathematics score  \\\n",
       "0                                    67   \n",
       "1                                    76   \n",
       "2                                    87   \n",
       "3                                    82   \n",
       "4                                    73   \n",
       "..                                  ...   \n",
       "195                                  88   \n",
       "196                                  62   \n",
       "197                                  59   \n",
       "198                                  68   \n",
       "199                                  77   \n",
       "\n",
       "     EEE2142 Electronic Devices and Circuits' score  \\\n",
       "0                                                73   \n",
       "1                                                80   \n",
       "2                                                94   \n",
       "3                                                85   \n",
       "4                                                76   \n",
       "..                                              ...   \n",
       "195                                              99   \n",
       "196                                              55   \n",
       "197                                              71   \n",
       "198                                              78   \n",
       "199                                              86   \n",
       "\n",
       "     CSE2200 Software Development I's score  MATH2203 Mathematics IV's score  \\\n",
       "0                                        68                               58   \n",
       "1                                        73                               74   \n",
       "2                                        95                               87   \n",
       "3                                        87                               97   \n",
       "4                                        78                               68   \n",
       "..                                      ...                              ...   \n",
       "195                                      95                               94   \n",
       "196                                      55                               60   \n",
       "197                                      65                               69   \n",
       "198                                      77                               87   \n",
       "199                                      86                               80   \n",
       "\n",
       "    Admission Fees Education Level of Parents  \n",
       "0         standard                         ED  \n",
       "1         standard                         ED  \n",
       "2         standard         associate's degree  \n",
       "3         standard                         CD  \n",
       "4         standard                         CD  \n",
       "..             ...                        ...  \n",
       "195       standard            master's degree  \n",
       "196           free                         ED  \n",
       "197           free                         ED  \n",
       "198       standard                         CD  \n",
       "199           free                         CD  \n",
       "\n",
       "[200 rows x 10 columns]"
      ]
     },
     "execution_count": 3,
     "metadata": {},
     "output_type": "execute_result"
    }
   ],
   "source": [
    "df_test"
   ]
  },
  {
   "cell_type": "code",
   "execution_count": 4,
   "id": "pursuant-calculator",
   "metadata": {
    "scrolled": false
   },
   "outputs": [
    {
     "data": {
      "text/html": [
       "<div>\n",
       "<style scoped>\n",
       "    .dataframe tbody tr th:only-of-type {\n",
       "        vertical-align: middle;\n",
       "    }\n",
       "\n",
       "    .dataframe tbody tr th {\n",
       "        vertical-align: top;\n",
       "    }\n",
       "\n",
       "    .dataframe thead th {\n",
       "        text-align: right;\n",
       "    }\n",
       "</style>\n",
       "<table border=\"1\" class=\"dataframe\">\n",
       "  <thead>\n",
       "    <tr style=\"text-align: right;\">\n",
       "      <th></th>\n",
       "      <th>id</th>\n",
       "      <th>gender</th>\n",
       "      <th>group</th>\n",
       "      <th>preparation rating</th>\n",
       "      <th>CSE1203 Discrete Mathematics score</th>\n",
       "      <th>EEE2142 Electronic Devices and Circuits' score</th>\n",
       "      <th>CSE2200 Software Development I's score</th>\n",
       "      <th>MATH2203 Mathematics IV's score</th>\n",
       "      <th>Admission Fees</th>\n",
       "      <th>Education Level of Parents</th>\n",
       "    </tr>\n",
       "  </thead>\n",
       "  <tbody>\n",
       "    <tr>\n",
       "      <th>0</th>\n",
       "      <td>0</td>\n",
       "      <td>female</td>\n",
       "      <td>A2</td>\n",
       "      <td>3</td>\n",
       "      <td>72</td>\n",
       "      <td>72</td>\n",
       "      <td>74</td>\n",
       "      <td>63</td>\n",
       "      <td>standard</td>\n",
       "      <td>BD</td>\n",
       "    </tr>\n",
       "    <tr>\n",
       "      <th>1</th>\n",
       "      <td>1</td>\n",
       "      <td>female</td>\n",
       "      <td>A3</td>\n",
       "      <td>5</td>\n",
       "      <td>69</td>\n",
       "      <td>90</td>\n",
       "      <td>88</td>\n",
       "      <td>80</td>\n",
       "      <td>standard</td>\n",
       "      <td>CD</td>\n",
       "    </tr>\n",
       "    <tr>\n",
       "      <th>2</th>\n",
       "      <td>2</td>\n",
       "      <td>female</td>\n",
       "      <td>A2</td>\n",
       "      <td>1</td>\n",
       "      <td>90</td>\n",
       "      <td>95</td>\n",
       "      <td>93</td>\n",
       "      <td>89</td>\n",
       "      <td>standard</td>\n",
       "      <td>master's degree</td>\n",
       "    </tr>\n",
       "    <tr>\n",
       "      <th>3</th>\n",
       "      <td>3</td>\n",
       "      <td>male</td>\n",
       "      <td>A1</td>\n",
       "      <td>4</td>\n",
       "      <td>47</td>\n",
       "      <td>57</td>\n",
       "      <td>44</td>\n",
       "      <td>42</td>\n",
       "      <td>free</td>\n",
       "      <td>associate's degree</td>\n",
       "    </tr>\n",
       "    <tr>\n",
       "      <th>4</th>\n",
       "      <td>4</td>\n",
       "      <td>male</td>\n",
       "      <td>A3</td>\n",
       "      <td>2</td>\n",
       "      <td>76</td>\n",
       "      <td>78</td>\n",
       "      <td>75</td>\n",
       "      <td>84</td>\n",
       "      <td>standard</td>\n",
       "      <td>CD</td>\n",
       "    </tr>\n",
       "    <tr>\n",
       "      <th>...</th>\n",
       "      <td>...</td>\n",
       "      <td>...</td>\n",
       "      <td>...</td>\n",
       "      <td>...</td>\n",
       "      <td>...</td>\n",
       "      <td>...</td>\n",
       "      <td>...</td>\n",
       "      <td>...</td>\n",
       "      <td>...</td>\n",
       "      <td>...</td>\n",
       "    </tr>\n",
       "    <tr>\n",
       "      <th>795</th>\n",
       "      <td>795</td>\n",
       "      <td>female</td>\n",
       "      <td>group E</td>\n",
       "      <td>5</td>\n",
       "      <td>57</td>\n",
       "      <td>68</td>\n",
       "      <td>73</td>\n",
       "      <td>77</td>\n",
       "      <td>free</td>\n",
       "      <td>associate's degree</td>\n",
       "    </tr>\n",
       "    <tr>\n",
       "      <th>796</th>\n",
       "      <td>796</td>\n",
       "      <td>male</td>\n",
       "      <td>A4</td>\n",
       "      <td>2</td>\n",
       "      <td>70</td>\n",
       "      <td>70</td>\n",
       "      <td>70</td>\n",
       "      <td>56</td>\n",
       "      <td>standard</td>\n",
       "      <td>ED</td>\n",
       "    </tr>\n",
       "    <tr>\n",
       "      <th>797</th>\n",
       "      <td>797</td>\n",
       "      <td>female</td>\n",
       "      <td>group E</td>\n",
       "      <td>0</td>\n",
       "      <td>70</td>\n",
       "      <td>84</td>\n",
       "      <td>81</td>\n",
       "      <td>91</td>\n",
       "      <td>free</td>\n",
       "      <td>associate's degree</td>\n",
       "    </tr>\n",
       "    <tr>\n",
       "      <th>798</th>\n",
       "      <td>798</td>\n",
       "      <td>male</td>\n",
       "      <td>group E</td>\n",
       "      <td>0</td>\n",
       "      <td>69</td>\n",
       "      <td>60</td>\n",
       "      <td>54</td>\n",
       "      <td>51</td>\n",
       "      <td>standard</td>\n",
       "      <td>CD</td>\n",
       "    </tr>\n",
       "    <tr>\n",
       "      <th>799</th>\n",
       "      <td>799</td>\n",
       "      <td>female</td>\n",
       "      <td>A3</td>\n",
       "      <td>1</td>\n",
       "      <td>52</td>\n",
       "      <td>55</td>\n",
       "      <td>57</td>\n",
       "      <td>65</td>\n",
       "      <td>standard</td>\n",
       "      <td>associate's degree</td>\n",
       "    </tr>\n",
       "  </tbody>\n",
       "</table>\n",
       "<p>800 rows × 10 columns</p>\n",
       "</div>"
      ],
      "text/plain": [
       "      id  gender    group  preparation rating  \\\n",
       "0      0  female       A2                   3   \n",
       "1      1  female       A3                   5   \n",
       "2      2  female       A2                   1   \n",
       "3      3    male       A1                   4   \n",
       "4      4    male       A3                   2   \n",
       "..   ...     ...      ...                 ...   \n",
       "795  795  female  group E                   5   \n",
       "796  796    male       A4                   2   \n",
       "797  797  female  group E                   0   \n",
       "798  798    male  group E                   0   \n",
       "799  799  female       A3                   1   \n",
       "\n",
       "     CSE1203 Discrete Mathematics score  \\\n",
       "0                                    72   \n",
       "1                                    69   \n",
       "2                                    90   \n",
       "3                                    47   \n",
       "4                                    76   \n",
       "..                                  ...   \n",
       "795                                  57   \n",
       "796                                  70   \n",
       "797                                  70   \n",
       "798                                  69   \n",
       "799                                  52   \n",
       "\n",
       "     EEE2142 Electronic Devices and Circuits' score  \\\n",
       "0                                                72   \n",
       "1                                                90   \n",
       "2                                                95   \n",
       "3                                                57   \n",
       "4                                                78   \n",
       "..                                              ...   \n",
       "795                                              68   \n",
       "796                                              70   \n",
       "797                                              84   \n",
       "798                                              60   \n",
       "799                                              55   \n",
       "\n",
       "     CSE2200 Software Development I's score  MATH2203 Mathematics IV's score  \\\n",
       "0                                        74                               63   \n",
       "1                                        88                               80   \n",
       "2                                        93                               89   \n",
       "3                                        44                               42   \n",
       "4                                        75                               84   \n",
       "..                                      ...                              ...   \n",
       "795                                      73                               77   \n",
       "796                                      70                               56   \n",
       "797                                      81                               91   \n",
       "798                                      54                               51   \n",
       "799                                      57                               65   \n",
       "\n",
       "    Admission Fees Education Level of Parents  \n",
       "0         standard                         BD  \n",
       "1         standard                         CD  \n",
       "2         standard            master's degree  \n",
       "3             free         associate's degree  \n",
       "4         standard                         CD  \n",
       "..             ...                        ...  \n",
       "795           free         associate's degree  \n",
       "796       standard                         ED  \n",
       "797           free         associate's degree  \n",
       "798       standard                         CD  \n",
       "799       standard         associate's degree  \n",
       "\n",
       "[800 rows x 10 columns]"
      ]
     },
     "execution_count": 4,
     "metadata": {},
     "output_type": "execute_result"
    }
   ],
   "source": [
    "df_train"
   ]
  },
  {
   "cell_type": "code",
   "execution_count": 5,
   "id": "external-recorder",
   "metadata": {},
   "outputs": [
    {
     "data": {
      "text/plain": [
       "(200, 10)"
      ]
     },
     "execution_count": 5,
     "metadata": {},
     "output_type": "execute_result"
    }
   ],
   "source": [
    "df_test.shape"
   ]
  },
  {
   "cell_type": "code",
   "execution_count": 6,
   "id": "blank-doctrine",
   "metadata": {},
   "outputs": [
    {
     "data": {
      "text/plain": [
       "(800, 10)"
      ]
     },
     "execution_count": 6,
     "metadata": {},
     "output_type": "execute_result"
    }
   ],
   "source": [
    "df_train.shape"
   ]
  },
  {
   "cell_type": "code",
   "execution_count": 7,
   "id": "front-eight",
   "metadata": {},
   "outputs": [
    {
     "data": {
      "text/plain": [
       "id                                                0\n",
       "gender                                            0\n",
       "group                                             0\n",
       "preparation rating                                0\n",
       "CSE1203 Discrete Mathematics score                0\n",
       "EEE2142 Electronic Devices and Circuits' score    0\n",
       "CSE2200 Software Development I's score            0\n",
       "MATH2203 Mathematics IV's score                   0\n",
       "Admission Fees                                    0\n",
       "Education Level of Parents                        0\n",
       "dtype: int64"
      ]
     },
     "execution_count": 7,
     "metadata": {},
     "output_type": "execute_result"
    }
   ],
   "source": [
    "df_test.isna().sum()"
   ]
  },
  {
   "cell_type": "code",
   "execution_count": 8,
   "id": "settled-wireless",
   "metadata": {},
   "outputs": [
    {
     "data": {
      "text/plain": [
       "id                                                0\n",
       "gender                                            0\n",
       "group                                             0\n",
       "preparation rating                                0\n",
       "CSE1203 Discrete Mathematics score                0\n",
       "EEE2142 Electronic Devices and Circuits' score    0\n",
       "CSE2200 Software Development I's score            0\n",
       "MATH2203 Mathematics IV's score                   0\n",
       "Admission Fees                                    0\n",
       "Education Level of Parents                        0\n",
       "dtype: int64"
      ]
     },
     "execution_count": 8,
     "metadata": {},
     "output_type": "execute_result"
    }
   ],
   "source": [
    "df_train.isna().sum()"
   ]
  },
  {
   "cell_type": "code",
   "execution_count": 9,
   "id": "going-consolidation",
   "metadata": {},
   "outputs": [],
   "source": [
    "df_test = df_test.drop('id', axis=1)"
   ]
  },
  {
   "cell_type": "code",
   "execution_count": 10,
   "id": "suffering-packaging",
   "metadata": {},
   "outputs": [],
   "source": [
    "df_train = df_train.drop('id', axis=1)"
   ]
  },
  {
   "cell_type": "code",
   "execution_count": 11,
   "id": "respiratory-validation",
   "metadata": {},
   "outputs": [],
   "source": [
    "merge_df = [df_test, df_train]"
   ]
  },
  {
   "cell_type": "code",
   "execution_count": 12,
   "id": "continuing-integer",
   "metadata": {},
   "outputs": [],
   "source": [
    "df = pd.concat(merge_df)"
   ]
  },
  {
   "cell_type": "code",
   "execution_count": 13,
   "id": "nominated-rabbit",
   "metadata": {
    "scrolled": false
   },
   "outputs": [
    {
     "data": {
      "text/html": [
       "<div>\n",
       "<style scoped>\n",
       "    .dataframe tbody tr th:only-of-type {\n",
       "        vertical-align: middle;\n",
       "    }\n",
       "\n",
       "    .dataframe tbody tr th {\n",
       "        vertical-align: top;\n",
       "    }\n",
       "\n",
       "    .dataframe thead th {\n",
       "        text-align: right;\n",
       "    }\n",
       "</style>\n",
       "<table border=\"1\" class=\"dataframe\">\n",
       "  <thead>\n",
       "    <tr style=\"text-align: right;\">\n",
       "      <th></th>\n",
       "      <th>gender</th>\n",
       "      <th>group</th>\n",
       "      <th>preparation rating</th>\n",
       "      <th>CSE1203 Discrete Mathematics score</th>\n",
       "      <th>EEE2142 Electronic Devices and Circuits' score</th>\n",
       "      <th>CSE2200 Software Development I's score</th>\n",
       "      <th>MATH2203 Mathematics IV's score</th>\n",
       "      <th>Admission Fees</th>\n",
       "      <th>Education Level of Parents</th>\n",
       "    </tr>\n",
       "  </thead>\n",
       "  <tbody>\n",
       "    <tr>\n",
       "      <th>0</th>\n",
       "      <td>male</td>\n",
       "      <td>A3</td>\n",
       "      <td>5</td>\n",
       "      <td>67</td>\n",
       "      <td>73</td>\n",
       "      <td>68</td>\n",
       "      <td>58</td>\n",
       "      <td>standard</td>\n",
       "      <td>ED</td>\n",
       "    </tr>\n",
       "    <tr>\n",
       "      <th>1</th>\n",
       "      <td>male</td>\n",
       "      <td>A3</td>\n",
       "      <td>5</td>\n",
       "      <td>76</td>\n",
       "      <td>80</td>\n",
       "      <td>73</td>\n",
       "      <td>74</td>\n",
       "      <td>standard</td>\n",
       "      <td>ED</td>\n",
       "    </tr>\n",
       "    <tr>\n",
       "      <th>2</th>\n",
       "      <td>female</td>\n",
       "      <td>group E</td>\n",
       "      <td>2</td>\n",
       "      <td>87</td>\n",
       "      <td>94</td>\n",
       "      <td>95</td>\n",
       "      <td>87</td>\n",
       "      <td>standard</td>\n",
       "      <td>associate's degree</td>\n",
       "    </tr>\n",
       "    <tr>\n",
       "      <th>3</th>\n",
       "      <td>female</td>\n",
       "      <td>A2</td>\n",
       "      <td>3</td>\n",
       "      <td>82</td>\n",
       "      <td>85</td>\n",
       "      <td>87</td>\n",
       "      <td>97</td>\n",
       "      <td>standard</td>\n",
       "      <td>CD</td>\n",
       "    </tr>\n",
       "    <tr>\n",
       "      <th>4</th>\n",
       "      <td>female</td>\n",
       "      <td>A3</td>\n",
       "      <td>4</td>\n",
       "      <td>73</td>\n",
       "      <td>76</td>\n",
       "      <td>78</td>\n",
       "      <td>68</td>\n",
       "      <td>standard</td>\n",
       "      <td>CD</td>\n",
       "    </tr>\n",
       "    <tr>\n",
       "      <th>...</th>\n",
       "      <td>...</td>\n",
       "      <td>...</td>\n",
       "      <td>...</td>\n",
       "      <td>...</td>\n",
       "      <td>...</td>\n",
       "      <td>...</td>\n",
       "      <td>...</td>\n",
       "      <td>...</td>\n",
       "      <td>...</td>\n",
       "    </tr>\n",
       "    <tr>\n",
       "      <th>795</th>\n",
       "      <td>female</td>\n",
       "      <td>group E</td>\n",
       "      <td>5</td>\n",
       "      <td>57</td>\n",
       "      <td>68</td>\n",
       "      <td>73</td>\n",
       "      <td>77</td>\n",
       "      <td>free</td>\n",
       "      <td>associate's degree</td>\n",
       "    </tr>\n",
       "    <tr>\n",
       "      <th>796</th>\n",
       "      <td>male</td>\n",
       "      <td>A4</td>\n",
       "      <td>2</td>\n",
       "      <td>70</td>\n",
       "      <td>70</td>\n",
       "      <td>70</td>\n",
       "      <td>56</td>\n",
       "      <td>standard</td>\n",
       "      <td>ED</td>\n",
       "    </tr>\n",
       "    <tr>\n",
       "      <th>797</th>\n",
       "      <td>female</td>\n",
       "      <td>group E</td>\n",
       "      <td>0</td>\n",
       "      <td>70</td>\n",
       "      <td>84</td>\n",
       "      <td>81</td>\n",
       "      <td>91</td>\n",
       "      <td>free</td>\n",
       "      <td>associate's degree</td>\n",
       "    </tr>\n",
       "    <tr>\n",
       "      <th>798</th>\n",
       "      <td>male</td>\n",
       "      <td>group E</td>\n",
       "      <td>0</td>\n",
       "      <td>69</td>\n",
       "      <td>60</td>\n",
       "      <td>54</td>\n",
       "      <td>51</td>\n",
       "      <td>standard</td>\n",
       "      <td>CD</td>\n",
       "    </tr>\n",
       "    <tr>\n",
       "      <th>799</th>\n",
       "      <td>female</td>\n",
       "      <td>A3</td>\n",
       "      <td>1</td>\n",
       "      <td>52</td>\n",
       "      <td>55</td>\n",
       "      <td>57</td>\n",
       "      <td>65</td>\n",
       "      <td>standard</td>\n",
       "      <td>associate's degree</td>\n",
       "    </tr>\n",
       "  </tbody>\n",
       "</table>\n",
       "<p>1000 rows × 9 columns</p>\n",
       "</div>"
      ],
      "text/plain": [
       "     gender    group  preparation rating  CSE1203 Discrete Mathematics score  \\\n",
       "0      male       A3                   5                                  67   \n",
       "1      male       A3                   5                                  76   \n",
       "2    female  group E                   2                                  87   \n",
       "3    female       A2                   3                                  82   \n",
       "4    female       A3                   4                                  73   \n",
       "..      ...      ...                 ...                                 ...   \n",
       "795  female  group E                   5                                  57   \n",
       "796    male       A4                   2                                  70   \n",
       "797  female  group E                   0                                  70   \n",
       "798    male  group E                   0                                  69   \n",
       "799  female       A3                   1                                  52   \n",
       "\n",
       "     EEE2142 Electronic Devices and Circuits' score  \\\n",
       "0                                                73   \n",
       "1                                                80   \n",
       "2                                                94   \n",
       "3                                                85   \n",
       "4                                                76   \n",
       "..                                              ...   \n",
       "795                                              68   \n",
       "796                                              70   \n",
       "797                                              84   \n",
       "798                                              60   \n",
       "799                                              55   \n",
       "\n",
       "     CSE2200 Software Development I's score  MATH2203 Mathematics IV's score  \\\n",
       "0                                        68                               58   \n",
       "1                                        73                               74   \n",
       "2                                        95                               87   \n",
       "3                                        87                               97   \n",
       "4                                        78                               68   \n",
       "..                                      ...                              ...   \n",
       "795                                      73                               77   \n",
       "796                                      70                               56   \n",
       "797                                      81                               91   \n",
       "798                                      54                               51   \n",
       "799                                      57                               65   \n",
       "\n",
       "    Admission Fees Education Level of Parents  \n",
       "0         standard                         ED  \n",
       "1         standard                         ED  \n",
       "2         standard         associate's degree  \n",
       "3         standard                         CD  \n",
       "4         standard                         CD  \n",
       "..             ...                        ...  \n",
       "795           free         associate's degree  \n",
       "796       standard                         ED  \n",
       "797           free         associate's degree  \n",
       "798       standard                         CD  \n",
       "799       standard         associate's degree  \n",
       "\n",
       "[1000 rows x 9 columns]"
      ]
     },
     "execution_count": 13,
     "metadata": {},
     "output_type": "execute_result"
    }
   ],
   "source": [
    "df"
   ]
  },
  {
   "cell_type": "code",
   "execution_count": 14,
   "id": "great-delicious",
   "metadata": {},
   "outputs": [
    {
     "name": "stdout",
     "output_type": "stream",
     "text": [
      "<class 'pandas.core.frame.DataFrame'>\n",
      "Int64Index: 1000 entries, 0 to 799\n",
      "Data columns (total 9 columns):\n",
      " #   Column                                          Non-Null Count  Dtype \n",
      "---  ------                                          --------------  ----- \n",
      " 0   gender                                          1000 non-null   object\n",
      " 1   group                                           1000 non-null   object\n",
      " 2   preparation rating                              1000 non-null   int64 \n",
      " 3   CSE1203 Discrete Mathematics score              1000 non-null   int64 \n",
      " 4   EEE2142 Electronic Devices and Circuits' score  1000 non-null   int64 \n",
      " 5   CSE2200 Software Development I's score          1000 non-null   int64 \n",
      " 6   MATH2203 Mathematics IV's score                 1000 non-null   int64 \n",
      " 7   Admission Fees                                  1000 non-null   object\n",
      " 8   Education Level of Parents                      1000 non-null   object\n",
      "dtypes: int64(5), object(4)\n",
      "memory usage: 78.1+ KB\n"
     ]
    }
   ],
   "source": [
    "df.info()"
   ]
  },
  {
   "cell_type": "code",
   "execution_count": 15,
   "id": "advanced-buying",
   "metadata": {},
   "outputs": [],
   "source": [
    "df.columns=df.columns.str.replace(\"'\",'')"
   ]
  },
  {
   "cell_type": "code",
   "execution_count": 16,
   "id": "upper-printer",
   "metadata": {},
   "outputs": [],
   "source": [
    "df.rename(columns={'preparation rating': 'preparation_rating', 'CSE1203 Discrete Mathematics score': 'CSE_dis_math_score', \n",
    "                   'EEE2142 Electronic Devices and Circuits score': 'EEE_elctrnc_circuits_score', \n",
    "                   'CSE2200 Software Development Is score': 'CSE_softwr_devlplmnt_score', \n",
    "                   'MATH2203 Mathematics IVs score': 'Mathematics_ivs_score', 'Admission Fees': 'Admission_fees', \n",
    "                   'Education Level of Parents': 'Education_level_of_parent'}, inplace=True)"
   ]
  },
  {
   "cell_type": "code",
   "execution_count": 17,
   "id": "uniform-artwork",
   "metadata": {},
   "outputs": [
    {
     "data": {
      "text/html": [
       "<div>\n",
       "<style scoped>\n",
       "    .dataframe tbody tr th:only-of-type {\n",
       "        vertical-align: middle;\n",
       "    }\n",
       "\n",
       "    .dataframe tbody tr th {\n",
       "        vertical-align: top;\n",
       "    }\n",
       "\n",
       "    .dataframe thead th {\n",
       "        text-align: right;\n",
       "    }\n",
       "</style>\n",
       "<table border=\"1\" class=\"dataframe\">\n",
       "  <thead>\n",
       "    <tr style=\"text-align: right;\">\n",
       "      <th></th>\n",
       "      <th>gender</th>\n",
       "      <th>group</th>\n",
       "      <th>preparation_rating</th>\n",
       "      <th>CSE_dis_math_score</th>\n",
       "      <th>EEE_elctrnc_circuits_score</th>\n",
       "      <th>CSE_softwr_devlplmnt_score</th>\n",
       "      <th>Mathematics_ivs_score</th>\n",
       "      <th>Admission_fees</th>\n",
       "      <th>Education_level_of_parent</th>\n",
       "    </tr>\n",
       "  </thead>\n",
       "  <tbody>\n",
       "    <tr>\n",
       "      <th>0</th>\n",
       "      <td>male</td>\n",
       "      <td>A3</td>\n",
       "      <td>5</td>\n",
       "      <td>67</td>\n",
       "      <td>73</td>\n",
       "      <td>68</td>\n",
       "      <td>58</td>\n",
       "      <td>standard</td>\n",
       "      <td>ED</td>\n",
       "    </tr>\n",
       "    <tr>\n",
       "      <th>1</th>\n",
       "      <td>male</td>\n",
       "      <td>A3</td>\n",
       "      <td>5</td>\n",
       "      <td>76</td>\n",
       "      <td>80</td>\n",
       "      <td>73</td>\n",
       "      <td>74</td>\n",
       "      <td>standard</td>\n",
       "      <td>ED</td>\n",
       "    </tr>\n",
       "    <tr>\n",
       "      <th>2</th>\n",
       "      <td>female</td>\n",
       "      <td>group E</td>\n",
       "      <td>2</td>\n",
       "      <td>87</td>\n",
       "      <td>94</td>\n",
       "      <td>95</td>\n",
       "      <td>87</td>\n",
       "      <td>standard</td>\n",
       "      <td>associate's degree</td>\n",
       "    </tr>\n",
       "    <tr>\n",
       "      <th>3</th>\n",
       "      <td>female</td>\n",
       "      <td>A2</td>\n",
       "      <td>3</td>\n",
       "      <td>82</td>\n",
       "      <td>85</td>\n",
       "      <td>87</td>\n",
       "      <td>97</td>\n",
       "      <td>standard</td>\n",
       "      <td>CD</td>\n",
       "    </tr>\n",
       "    <tr>\n",
       "      <th>4</th>\n",
       "      <td>female</td>\n",
       "      <td>A3</td>\n",
       "      <td>4</td>\n",
       "      <td>73</td>\n",
       "      <td>76</td>\n",
       "      <td>78</td>\n",
       "      <td>68</td>\n",
       "      <td>standard</td>\n",
       "      <td>CD</td>\n",
       "    </tr>\n",
       "    <tr>\n",
       "      <th>...</th>\n",
       "      <td>...</td>\n",
       "      <td>...</td>\n",
       "      <td>...</td>\n",
       "      <td>...</td>\n",
       "      <td>...</td>\n",
       "      <td>...</td>\n",
       "      <td>...</td>\n",
       "      <td>...</td>\n",
       "      <td>...</td>\n",
       "    </tr>\n",
       "    <tr>\n",
       "      <th>795</th>\n",
       "      <td>female</td>\n",
       "      <td>group E</td>\n",
       "      <td>5</td>\n",
       "      <td>57</td>\n",
       "      <td>68</td>\n",
       "      <td>73</td>\n",
       "      <td>77</td>\n",
       "      <td>free</td>\n",
       "      <td>associate's degree</td>\n",
       "    </tr>\n",
       "    <tr>\n",
       "      <th>796</th>\n",
       "      <td>male</td>\n",
       "      <td>A4</td>\n",
       "      <td>2</td>\n",
       "      <td>70</td>\n",
       "      <td>70</td>\n",
       "      <td>70</td>\n",
       "      <td>56</td>\n",
       "      <td>standard</td>\n",
       "      <td>ED</td>\n",
       "    </tr>\n",
       "    <tr>\n",
       "      <th>797</th>\n",
       "      <td>female</td>\n",
       "      <td>group E</td>\n",
       "      <td>0</td>\n",
       "      <td>70</td>\n",
       "      <td>84</td>\n",
       "      <td>81</td>\n",
       "      <td>91</td>\n",
       "      <td>free</td>\n",
       "      <td>associate's degree</td>\n",
       "    </tr>\n",
       "    <tr>\n",
       "      <th>798</th>\n",
       "      <td>male</td>\n",
       "      <td>group E</td>\n",
       "      <td>0</td>\n",
       "      <td>69</td>\n",
       "      <td>60</td>\n",
       "      <td>54</td>\n",
       "      <td>51</td>\n",
       "      <td>standard</td>\n",
       "      <td>CD</td>\n",
       "    </tr>\n",
       "    <tr>\n",
       "      <th>799</th>\n",
       "      <td>female</td>\n",
       "      <td>A3</td>\n",
       "      <td>1</td>\n",
       "      <td>52</td>\n",
       "      <td>55</td>\n",
       "      <td>57</td>\n",
       "      <td>65</td>\n",
       "      <td>standard</td>\n",
       "      <td>associate's degree</td>\n",
       "    </tr>\n",
       "  </tbody>\n",
       "</table>\n",
       "<p>1000 rows × 9 columns</p>\n",
       "</div>"
      ],
      "text/plain": [
       "     gender    group  preparation_rating  CSE_dis_math_score  \\\n",
       "0      male       A3                   5                  67   \n",
       "1      male       A3                   5                  76   \n",
       "2    female  group E                   2                  87   \n",
       "3    female       A2                   3                  82   \n",
       "4    female       A3                   4                  73   \n",
       "..      ...      ...                 ...                 ...   \n",
       "795  female  group E                   5                  57   \n",
       "796    male       A4                   2                  70   \n",
       "797  female  group E                   0                  70   \n",
       "798    male  group E                   0                  69   \n",
       "799  female       A3                   1                  52   \n",
       "\n",
       "     EEE_elctrnc_circuits_score  CSE_softwr_devlplmnt_score  \\\n",
       "0                            73                          68   \n",
       "1                            80                          73   \n",
       "2                            94                          95   \n",
       "3                            85                          87   \n",
       "4                            76                          78   \n",
       "..                          ...                         ...   \n",
       "795                          68                          73   \n",
       "796                          70                          70   \n",
       "797                          84                          81   \n",
       "798                          60                          54   \n",
       "799                          55                          57   \n",
       "\n",
       "     Mathematics_ivs_score Admission_fees Education_level_of_parent  \n",
       "0                       58       standard                        ED  \n",
       "1                       74       standard                        ED  \n",
       "2                       87       standard        associate's degree  \n",
       "3                       97       standard                        CD  \n",
       "4                       68       standard                        CD  \n",
       "..                     ...            ...                       ...  \n",
       "795                     77           free        associate's degree  \n",
       "796                     56       standard                        ED  \n",
       "797                     91           free        associate's degree  \n",
       "798                     51       standard                        CD  \n",
       "799                     65       standard        associate's degree  \n",
       "\n",
       "[1000 rows x 9 columns]"
      ]
     },
     "execution_count": 17,
     "metadata": {},
     "output_type": "execute_result"
    }
   ],
   "source": [
    "df"
   ]
  },
  {
   "cell_type": "code",
   "execution_count": 18,
   "id": "liquid-physiology",
   "metadata": {},
   "outputs": [
    {
     "data": {
      "text/plain": [
       "array([5, 2, 3, 4, 0, 1], dtype=int64)"
      ]
     },
     "execution_count": 18,
     "metadata": {},
     "output_type": "execute_result"
    }
   ],
   "source": [
    "df['preparation_rating'].unique()"
   ]
  },
  {
   "cell_type": "code",
   "execution_count": 19,
   "id": "south-absolute",
   "metadata": {},
   "outputs": [
    {
     "data": {
      "text/plain": [
       "5    358\n",
       "4    136\n",
       "3    129\n",
       "0    128\n",
       "1    125\n",
       "2    124\n",
       "Name: preparation_rating, dtype: int64"
      ]
     },
     "execution_count": 19,
     "metadata": {},
     "output_type": "execute_result"
    }
   ],
   "source": [
    "df['preparation_rating'].value_counts()"
   ]
  },
  {
   "cell_type": "code",
   "execution_count": 20,
   "id": "disabled-implement",
   "metadata": {},
   "outputs": [
    {
     "data": {
      "text/plain": [
       "array(['male', 'female'], dtype=object)"
      ]
     },
     "execution_count": 20,
     "metadata": {},
     "output_type": "execute_result"
    }
   ],
   "source": [
    "df['gender'].unique()"
   ]
  },
  {
   "cell_type": "code",
   "execution_count": 21,
   "id": "wound-inspection",
   "metadata": {},
   "outputs": [
    {
     "data": {
      "text/plain": [
       "1    518\n",
       "0    482\n",
       "Name: gender, dtype: int64"
      ]
     },
     "execution_count": 21,
     "metadata": {},
     "output_type": "execute_result"
    }
   ],
   "source": [
    "df.gender=df.gender.map({'male':0,'female':1})\n",
    "df['gender'].value_counts()"
   ]
  },
  {
   "cell_type": "code",
   "execution_count": 22,
   "id": "empirical-nickel",
   "metadata": {},
   "outputs": [
    {
     "data": {
      "text/plain": [
       "array(['A3', 'group E', 'A2', 'A1', 'A4'], dtype=object)"
      ]
     },
     "execution_count": 22,
     "metadata": {},
     "output_type": "execute_result"
    }
   ],
   "source": [
    "df['group'].unique()"
   ]
  },
  {
   "cell_type": "code",
   "execution_count": 23,
   "id": "resident-cooperative",
   "metadata": {},
   "outputs": [],
   "source": [
    "df['group'] = df['group'].str.replace('A3','A_three')"
   ]
  },
  {
   "cell_type": "code",
   "execution_count": 24,
   "id": "social-training",
   "metadata": {},
   "outputs": [],
   "source": [
    "df['group'] = df['group'].str.replace('group E','group_E')"
   ]
  },
  {
   "cell_type": "code",
   "execution_count": 25,
   "id": "sunset-binding",
   "metadata": {},
   "outputs": [],
   "source": [
    "df['group'] = df['group'].str.replace('A2','A_two')"
   ]
  },
  {
   "cell_type": "code",
   "execution_count": 26,
   "id": "robust-montana",
   "metadata": {},
   "outputs": [],
   "source": [
    "df['group'] = df['group'].str.replace('A1','A_one')"
   ]
  },
  {
   "cell_type": "code",
   "execution_count": 27,
   "id": "handy-fantasy",
   "metadata": {},
   "outputs": [],
   "source": [
    "df['group'] = df['group'].str.replace('A4','A_four')"
   ]
  },
  {
   "cell_type": "code",
   "execution_count": 28,
   "id": "whole-grade",
   "metadata": {},
   "outputs": [
    {
     "data": {
      "text/plain": [
       "array(['A_three', 'group_E', 'A_two', 'A_one', 'A_four'], dtype=object)"
      ]
     },
     "execution_count": 28,
     "metadata": {},
     "output_type": "execute_result"
    }
   ],
   "source": [
    "df['group'].unique()"
   ]
  },
  {
   "cell_type": "code",
   "execution_count": 29,
   "id": "strong-spending",
   "metadata": {},
   "outputs": [
    {
     "data": {
      "text/plain": [
       "2    319\n",
       "3    262\n",
       "1    190\n",
       "4    140\n",
       "0     89\n",
       "Name: group, dtype: int64"
      ]
     },
     "execution_count": 29,
     "metadata": {},
     "output_type": "execute_result"
    }
   ],
   "source": [
    "df.group=df.group.map({'A_one':0,'A_two':1,'A_three':2,'A_four':3,'group_E':4})\n",
    "df['group'].value_counts()"
   ]
  },
  {
   "cell_type": "code",
   "execution_count": 30,
   "id": "driving-authentication",
   "metadata": {},
   "outputs": [
    {
     "data": {
      "text/plain": [
       "array(['standard', 'free'], dtype=object)"
      ]
     },
     "execution_count": 30,
     "metadata": {},
     "output_type": "execute_result"
    }
   ],
   "source": [
    "df['Admission_fees'].unique()"
   ]
  },
  {
   "cell_type": "code",
   "execution_count": 31,
   "id": "prompt-tuner",
   "metadata": {},
   "outputs": [
    {
     "data": {
      "text/plain": [
       "1    645\n",
       "0    355\n",
       "Name: Admission_fees, dtype: int64"
      ]
     },
     "execution_count": 31,
     "metadata": {},
     "output_type": "execute_result"
    }
   ],
   "source": [
    "df.Admission_fees=df.Admission_fees.map({'free':0,'standard':1})\n",
    "df['Admission_fees'].value_counts()"
   ]
  },
  {
   "cell_type": "code",
   "execution_count": 32,
   "id": "adjustable-heather",
   "metadata": {},
   "outputs": [
    {
     "data": {
      "text/plain": [
       "array(['ED', \"associate's degree\", 'CD', 'BD', \"master's degree\"],\n",
       "      dtype=object)"
      ]
     },
     "execution_count": 32,
     "metadata": {},
     "output_type": "execute_result"
    }
   ],
   "source": [
    "df['Education_level_of_parent'].unique()"
   ]
  },
  {
   "cell_type": "code",
   "execution_count": 33,
   "id": "individual-surrey",
   "metadata": {},
   "outputs": [],
   "source": [
    "df['Education_level_of_parent'] = df['Education_level_of_parent'].str.replace(\"'\",'')"
   ]
  },
  {
   "cell_type": "code",
   "execution_count": 34,
   "id": "attached-rwanda",
   "metadata": {},
   "outputs": [
    {
     "data": {
      "text/plain": [
       "array(['ED', 'associates degree', 'CD', 'BD', 'masters degree'],\n",
       "      dtype=object)"
      ]
     },
     "execution_count": 34,
     "metadata": {},
     "output_type": "execute_result"
    }
   ],
   "source": [
    "df['Education_level_of_parent'].unique()"
   ]
  },
  {
   "cell_type": "code",
   "execution_count": 35,
   "id": "adjacent-archive",
   "metadata": {},
   "outputs": [],
   "source": [
    "df['Education_level_of_parent'] = df['Education_level_of_parent'].str.replace('associates degree', 'associates_degree')"
   ]
  },
  {
   "cell_type": "code",
   "execution_count": 36,
   "id": "linear-ordering",
   "metadata": {},
   "outputs": [],
   "source": [
    "df['Education_level_of_parent'] = df['Education_level_of_parent'].str.replace('masters degree', 'masters_degree')"
   ]
  },
  {
   "cell_type": "code",
   "execution_count": 37,
   "id": "modern-commerce",
   "metadata": {},
   "outputs": [
    {
     "data": {
      "text/plain": [
       "array(['ED', 'associates_degree', 'CD', 'BD', 'masters_degree'],\n",
       "      dtype=object)"
      ]
     },
     "execution_count": 37,
     "metadata": {},
     "output_type": "execute_result"
    }
   ],
   "source": [
    "df['Education_level_of_parent'].unique()"
   ]
  },
  {
   "cell_type": "code",
   "execution_count": 38,
   "id": "generic-developer",
   "metadata": {},
   "outputs": [
    {
     "data": {
      "text/plain": [
       "0    375\n",
       "1    226\n",
       "3    222\n",
       "2    118\n",
       "4     59\n",
       "Name: Education_level_of_parent, dtype: int64"
      ]
     },
     "execution_count": 38,
     "metadata": {},
     "output_type": "execute_result"
    }
   ],
   "source": [
    "df.Education_level_of_parent=df.Education_level_of_parent.map({'ED':0,'CD':1,'BD':2,'associates_degree':3,'masters_degree':4})\n",
    "df['Education_level_of_parent'].value_counts()"
   ]
  },
  {
   "cell_type": "code",
   "execution_count": 39,
   "id": "driven-premiere",
   "metadata": {},
   "outputs": [
    {
     "data": {
      "text/html": [
       "<div>\n",
       "<style scoped>\n",
       "    .dataframe tbody tr th:only-of-type {\n",
       "        vertical-align: middle;\n",
       "    }\n",
       "\n",
       "    .dataframe tbody tr th {\n",
       "        vertical-align: top;\n",
       "    }\n",
       "\n",
       "    .dataframe thead th {\n",
       "        text-align: right;\n",
       "    }\n",
       "</style>\n",
       "<table border=\"1\" class=\"dataframe\">\n",
       "  <thead>\n",
       "    <tr style=\"text-align: right;\">\n",
       "      <th></th>\n",
       "      <th>gender</th>\n",
       "      <th>group</th>\n",
       "      <th>preparation_rating</th>\n",
       "      <th>CSE_dis_math_score</th>\n",
       "      <th>EEE_elctrnc_circuits_score</th>\n",
       "      <th>CSE_softwr_devlplmnt_score</th>\n",
       "      <th>Mathematics_ivs_score</th>\n",
       "      <th>Admission_fees</th>\n",
       "      <th>Education_level_of_parent</th>\n",
       "    </tr>\n",
       "  </thead>\n",
       "  <tbody>\n",
       "    <tr>\n",
       "      <th>0</th>\n",
       "      <td>0</td>\n",
       "      <td>2</td>\n",
       "      <td>5</td>\n",
       "      <td>67</td>\n",
       "      <td>73</td>\n",
       "      <td>68</td>\n",
       "      <td>58</td>\n",
       "      <td>1</td>\n",
       "      <td>0</td>\n",
       "    </tr>\n",
       "    <tr>\n",
       "      <th>1</th>\n",
       "      <td>0</td>\n",
       "      <td>2</td>\n",
       "      <td>5</td>\n",
       "      <td>76</td>\n",
       "      <td>80</td>\n",
       "      <td>73</td>\n",
       "      <td>74</td>\n",
       "      <td>1</td>\n",
       "      <td>0</td>\n",
       "    </tr>\n",
       "    <tr>\n",
       "      <th>2</th>\n",
       "      <td>1</td>\n",
       "      <td>4</td>\n",
       "      <td>2</td>\n",
       "      <td>87</td>\n",
       "      <td>94</td>\n",
       "      <td>95</td>\n",
       "      <td>87</td>\n",
       "      <td>1</td>\n",
       "      <td>3</td>\n",
       "    </tr>\n",
       "    <tr>\n",
       "      <th>3</th>\n",
       "      <td>1</td>\n",
       "      <td>1</td>\n",
       "      <td>3</td>\n",
       "      <td>82</td>\n",
       "      <td>85</td>\n",
       "      <td>87</td>\n",
       "      <td>97</td>\n",
       "      <td>1</td>\n",
       "      <td>1</td>\n",
       "    </tr>\n",
       "    <tr>\n",
       "      <th>4</th>\n",
       "      <td>1</td>\n",
       "      <td>2</td>\n",
       "      <td>4</td>\n",
       "      <td>73</td>\n",
       "      <td>76</td>\n",
       "      <td>78</td>\n",
       "      <td>68</td>\n",
       "      <td>1</td>\n",
       "      <td>1</td>\n",
       "    </tr>\n",
       "    <tr>\n",
       "      <th>...</th>\n",
       "      <td>...</td>\n",
       "      <td>...</td>\n",
       "      <td>...</td>\n",
       "      <td>...</td>\n",
       "      <td>...</td>\n",
       "      <td>...</td>\n",
       "      <td>...</td>\n",
       "      <td>...</td>\n",
       "      <td>...</td>\n",
       "    </tr>\n",
       "    <tr>\n",
       "      <th>795</th>\n",
       "      <td>1</td>\n",
       "      <td>4</td>\n",
       "      <td>5</td>\n",
       "      <td>57</td>\n",
       "      <td>68</td>\n",
       "      <td>73</td>\n",
       "      <td>77</td>\n",
       "      <td>0</td>\n",
       "      <td>3</td>\n",
       "    </tr>\n",
       "    <tr>\n",
       "      <th>796</th>\n",
       "      <td>0</td>\n",
       "      <td>3</td>\n",
       "      <td>2</td>\n",
       "      <td>70</td>\n",
       "      <td>70</td>\n",
       "      <td>70</td>\n",
       "      <td>56</td>\n",
       "      <td>1</td>\n",
       "      <td>0</td>\n",
       "    </tr>\n",
       "    <tr>\n",
       "      <th>797</th>\n",
       "      <td>1</td>\n",
       "      <td>4</td>\n",
       "      <td>0</td>\n",
       "      <td>70</td>\n",
       "      <td>84</td>\n",
       "      <td>81</td>\n",
       "      <td>91</td>\n",
       "      <td>0</td>\n",
       "      <td>3</td>\n",
       "    </tr>\n",
       "    <tr>\n",
       "      <th>798</th>\n",
       "      <td>0</td>\n",
       "      <td>4</td>\n",
       "      <td>0</td>\n",
       "      <td>69</td>\n",
       "      <td>60</td>\n",
       "      <td>54</td>\n",
       "      <td>51</td>\n",
       "      <td>1</td>\n",
       "      <td>1</td>\n",
       "    </tr>\n",
       "    <tr>\n",
       "      <th>799</th>\n",
       "      <td>1</td>\n",
       "      <td>2</td>\n",
       "      <td>1</td>\n",
       "      <td>52</td>\n",
       "      <td>55</td>\n",
       "      <td>57</td>\n",
       "      <td>65</td>\n",
       "      <td>1</td>\n",
       "      <td>3</td>\n",
       "    </tr>\n",
       "  </tbody>\n",
       "</table>\n",
       "<p>1000 rows × 9 columns</p>\n",
       "</div>"
      ],
      "text/plain": [
       "     gender  group  preparation_rating  CSE_dis_math_score  \\\n",
       "0         0      2                   5                  67   \n",
       "1         0      2                   5                  76   \n",
       "2         1      4                   2                  87   \n",
       "3         1      1                   3                  82   \n",
       "4         1      2                   4                  73   \n",
       "..      ...    ...                 ...                 ...   \n",
       "795       1      4                   5                  57   \n",
       "796       0      3                   2                  70   \n",
       "797       1      4                   0                  70   \n",
       "798       0      4                   0                  69   \n",
       "799       1      2                   1                  52   \n",
       "\n",
       "     EEE_elctrnc_circuits_score  CSE_softwr_devlplmnt_score  \\\n",
       "0                            73                          68   \n",
       "1                            80                          73   \n",
       "2                            94                          95   \n",
       "3                            85                          87   \n",
       "4                            76                          78   \n",
       "..                          ...                         ...   \n",
       "795                          68                          73   \n",
       "796                          70                          70   \n",
       "797                          84                          81   \n",
       "798                          60                          54   \n",
       "799                          55                          57   \n",
       "\n",
       "     Mathematics_ivs_score  Admission_fees  Education_level_of_parent  \n",
       "0                       58               1                          0  \n",
       "1                       74               1                          0  \n",
       "2                       87               1                          3  \n",
       "3                       97               1                          1  \n",
       "4                       68               1                          1  \n",
       "..                     ...             ...                        ...  \n",
       "795                     77               0                          3  \n",
       "796                     56               1                          0  \n",
       "797                     91               0                          3  \n",
       "798                     51               1                          1  \n",
       "799                     65               1                          3  \n",
       "\n",
       "[1000 rows x 9 columns]"
      ]
     },
     "execution_count": 39,
     "metadata": {},
     "output_type": "execute_result"
    }
   ],
   "source": [
    "df"
   ]
  },
  {
   "cell_type": "code",
   "execution_count": 40,
   "id": "color-commonwealth",
   "metadata": {},
   "outputs": [
    {
     "data": {
      "text/plain": [
       "gender                        int64\n",
       "group                         int64\n",
       "preparation_rating            int64\n",
       "CSE_dis_math_score            int64\n",
       "EEE_elctrnc_circuits_score    int64\n",
       "CSE_softwr_devlplmnt_score    int64\n",
       "Mathematics_ivs_score         int64\n",
       "Admission_fees                int64\n",
       "Education_level_of_parent     int64\n",
       "dtype: object"
      ]
     },
     "execution_count": 40,
     "metadata": {},
     "output_type": "execute_result"
    }
   ],
   "source": [
    "df.dtypes"
   ]
  },
  {
   "cell_type": "code",
   "execution_count": 41,
   "id": "twenty-client",
   "metadata": {},
   "outputs": [
    {
     "data": {
      "text/plain": [
       "<AxesSubplot:>"
      ]
     },
     "execution_count": 41,
     "metadata": {},
     "output_type": "execute_result"
    },
    {
     "data": {
      "image/png": "[encoded data removed]",
      "text/plain": [
       "<Figure size 1152x720 with 2 Axes>"
      ]
     },
     "metadata": {
      "needs_background": "light"
     },
     "output_type": "display_data"
    }
   ],
   "source": [
    "fig, ax = plt.subplots(figsize=(16, 10))\n",
    "sns.heatmap(df.corr(), annot=True, fmt='.2g', cmap='viridis', cbar=True)"
   ]
  },
  {
   "cell_type": "code",
   "execution_count": 42,
   "id": "unlikely-precipitation",
   "metadata": {
    "scrolled": false
   },
   "outputs": [
    {
     "name": "stderr",
     "output_type": "stream",
     "text": [
      "c:\\users\\user\\appdata\\local\\programs\\python\\python39\\lib\\site-packages\\seaborn\\distributions.py:2585: FutureWarning: `distplot` is a deprecated function and will be removed in a future version. Please adapt your code to use either `displot` (a figure-level function with similar flexibility) or `histplot` (an axes-level function for histograms).\n",
      "  warnings.warn(msg, FutureWarning)\n",
      "c:\\users\\user\\appdata\\local\\programs\\python\\python39\\lib\\site-packages\\seaborn\\distributions.py:2585: FutureWarning: `distplot` is a deprecated function and will be removed in a future version. Please adapt your code to use either `displot` (a figure-level function with similar flexibility) or `histplot` (an axes-level function for histograms).\n",
      "  warnings.warn(msg, FutureWarning)\n",
      "c:\\users\\user\\appdata\\local\\programs\\python\\python39\\lib\\site-packages\\seaborn\\distributions.py:2585: FutureWarning: `distplot` is a deprecated function and will be removed in a future version. Please adapt your code to use either `displot` (a figure-level function with similar flexibility) or `histplot` (an axes-level function for histograms).\n",
      "  warnings.warn(msg, FutureWarning)\n",
      "c:\\users\\user\\appdata\\local\\programs\\python\\python39\\lib\\site-packages\\seaborn\\distributions.py:2585: FutureWarning: `distplot` is a deprecated function and will be removed in a future version. Please adapt your code to use either `displot` (a figure-level function with similar flexibility) or `histplot` (an axes-level function for histograms).\n",
      "  warnings.warn(msg, FutureWarning)\n",
      "c:\\users\\user\\appdata\\local\\programs\\python\\python39\\lib\\site-packages\\seaborn\\distributions.py:2585: FutureWarning: `distplot` is a deprecated function and will be removed in a future version. Please adapt your code to use either `displot` (a figure-level function with similar flexibility) or `histplot` (an axes-level function for histograms).\n",
      "  warnings.warn(msg, FutureWarning)\n",
      "c:\\users\\user\\appdata\\local\\programs\\python\\python39\\lib\\site-packages\\seaborn\\distributions.py:2585: FutureWarning: `distplot` is a deprecated function and will be removed in a future version. Please adapt your code to use either `displot` (a figure-level function with similar flexibility) or `histplot` (an axes-level function for histograms).\n",
      "  warnings.warn(msg, FutureWarning)\n",
      "c:\\users\\user\\appdata\\local\\programs\\python\\python39\\lib\\site-packages\\seaborn\\distributions.py:2585: FutureWarning: `distplot` is a deprecated function and will be removed in a future version. Please adapt your code to use either `displot` (a figure-level function with similar flexibility) or `histplot` (an axes-level function for histograms).\n",
      "  warnings.warn(msg, FutureWarning)\n",
      "c:\\users\\user\\appdata\\local\\programs\\python\\python39\\lib\\site-packages\\seaborn\\distributions.py:2585: FutureWarning: `distplot` is a deprecated function and will be removed in a future version. Please adapt your code to use either `displot` (a figure-level function with similar flexibility) or `histplot` (an axes-level function for histograms).\n",
      "  warnings.warn(msg, FutureWarning)\n",
      "c:\\users\\user\\appdata\\local\\programs\\python\\python39\\lib\\site-packages\\seaborn\\distributions.py:2585: FutureWarning: `distplot` is a deprecated function and will be removed in a future version. Please adapt your code to use either `displot` (a figure-level function with similar flexibility) or `histplot` (an axes-level function for histograms).\n",
      "  warnings.warn(msg, FutureWarning)\n"
     ]
    },
    {
     "data": {
      "image/png": "[encoded data removed]",
      "text/plain": [
       "<Figure size 1440x1800 with 9 Axes>"
      ]
     },
     "metadata": {},
     "output_type": "display_data"
    }
   ],
   "source": [
    "plt.figure(figsize=(20,25), facecolor='white')\n",
    "plotnumber = 1\n",
    "\n",
    "for column in df:\n",
    "    if plotnumber<=9 :    \n",
    "        ax = plt.subplot(3,3,plotnumber)\n",
    "        sns.distplot(df[column])\n",
    "        plt.xlabel(column,fontsize=20)\n",
    "    plotnumber+=1\n",
    "plt.show()"
   ]
  },
  {
   "cell_type": "code",
   "execution_count": 43,
   "id": "forced-cradle",
   "metadata": {},
   "outputs": [
    {
     "data": {
      "text/plain": [
       "Index(['gender', 'group', 'preparation_rating', 'CSE_dis_math_score',\n",
       "       'EEE_elctrnc_circuits_score', 'CSE_softwr_devlplmnt_score',\n",
       "       'Mathematics_ivs_score', 'Admission_fees', 'Education_level_of_parent'],\n",
       "      dtype='object')"
      ]
     },
     "execution_count": 43,
     "metadata": {},
     "output_type": "execute_result"
    }
   ],
   "source": [
    "df.columns"
   ]
  },
  {
   "cell_type": "code",
   "execution_count": 44,
   "id": "prescribed-seeking",
   "metadata": {},
   "outputs": [
    {
     "data": {
      "image/png": "[encoded data removed]",
      "text/plain": [
       "<Figure size 432x288 with 1 Axes>"
      ]
     },
     "metadata": {
      "needs_background": "light"
     },
     "output_type": "display_data"
    }
   ],
   "source": [
    "df.plot(x='preparation_rating',y='CSE_dis_math_score',kind='scatter')\n",
    "plt.show()"
   ]
  },
  {
   "cell_type": "code",
   "execution_count": 45,
   "id": "brazilian-canyon",
   "metadata": {},
   "outputs": [
    {
     "data": {
      "image/png": "[encoded data removed]",
      "text/plain": [
       "<Figure size 432x288 with 1 Axes>"
      ]
     },
     "metadata": {
      "needs_background": "light"
     },
     "output_type": "display_data"
    }
   ],
   "source": [
    "df.plot(x='preparation_rating',y='EEE_elctrnc_circuits_score',kind='scatter')\n",
    "plt.show()"
   ]
  },
  {
   "cell_type": "code",
   "execution_count": 46,
   "id": "capable-mercy",
   "metadata": {},
   "outputs": [
    {
     "data": {
      "image/png": "[encoded data removed]",
      "text/plain": [
       "<Figure size 432x288 with 1 Axes>"
      ]
     },
     "metadata": {
      "needs_background": "light"
     },
     "output_type": "display_data"
    }
   ],
   "source": [
    "df.plot(x='preparation_rating',y='CSE_softwr_devlplmnt_score',kind='scatter')\n",
    "plt.show()"
   ]
  },
  {
   "cell_type": "code",
   "execution_count": 47,
   "id": "forced-knitting",
   "metadata": {},
   "outputs": [
    {
     "data": {
      "image/png": "[encoded data removed]",
      "text/plain": [
       "<Figure size 432x288 with 1 Axes>"
      ]
     },
     "metadata": {
      "needs_background": "light"
     },
     "output_type": "display_data"
    }
   ],
   "source": [
    "df.plot(x='preparation_rating',y='Mathematics_ivs_score',kind='scatter')\n",
    "plt.show()"
   ]
  },
  {
   "cell_type": "code",
   "execution_count": 48,
   "id": "about-afternoon",
   "metadata": {},
   "outputs": [
    {
     "data": {
      "image/png": "[encoded data removed]",
      "text/plain": [
       "<Figure size 432x288 with 1 Axes>"
      ]
     },
     "metadata": {
      "needs_background": "light"
     },
     "output_type": "display_data"
    }
   ],
   "source": [
    "df.plot(x='CSE_dis_math_score',y='EEE_elctrnc_circuits_score',kind='scatter')\n",
    "plt.show()"
   ]
  },
  {
   "cell_type": "code",
   "execution_count": 49,
   "id": "under-award",
   "metadata": {},
   "outputs": [
    {
     "data": {
      "image/png": "[encoded data removed]",
      "text/plain": [
       "<Figure size 432x288 with 1 Axes>"
      ]
     },
     "metadata": {
      "needs_background": "light"
     },
     "output_type": "display_data"
    }
   ],
   "source": [
    "df.plot(x='CSE_dis_math_score',y='CSE_softwr_devlplmnt_score',kind='scatter')\n",
    "plt.show()"
   ]
  },
  {
   "cell_type": "code",
   "execution_count": 50,
   "id": "bizarre-player",
   "metadata": {},
   "outputs": [
    {
     "data": {
      "image/png": "[encoded data removed]",
      "text/plain": [
       "<Figure size 432x288 with 1 Axes>"
      ]
     },
     "metadata": {
      "needs_background": "light"
     },
     "output_type": "display_data"
    }
   ],
   "source": [
    "df.plot(x='CSE_dis_math_score',y='Mathematics_ivs_score',kind='scatter')\n",
    "plt.show()"
   ]
  },
  {
   "cell_type": "code",
   "execution_count": 51,
   "id": "accurate-moisture",
   "metadata": {},
   "outputs": [
    {
     "data": {
      "image/png": "[encoded data removed]",
      "text/plain": [
       "<Figure size 432x288 with 1 Axes>"
      ]
     },
     "metadata": {
      "needs_background": "light"
     },
     "output_type": "display_data"
    }
   ],
   "source": [
    "df.plot(x='group',y='gender',kind='scatter')\n",
    "plt.show()"
   ]
  },
  {
   "cell_type": "code",
   "execution_count": 52,
   "id": "widespread-opening",
   "metadata": {},
   "outputs": [
    {
     "data": {
      "image/png": "[encoded data removed]",
      "text/plain": [
       "<Figure size 1440x720 with 1 Axes>"
      ]
     },
     "metadata": {
      "needs_background": "light"
     },
     "output_type": "display_data"
    }
   ],
   "source": [
    "df.plot(kind='box',figsize=(20,10))\n",
    "plt.show()"
   ]
  },
  {
   "cell_type": "code",
   "execution_count": 53,
   "id": "liberal-cylinder",
   "metadata": {},
   "outputs": [
    {
     "data": {
      "text/html": [
       "<div>\n",
       "<style scoped>\n",
       "    .dataframe tbody tr th:only-of-type {\n",
       "        vertical-align: middle;\n",
       "    }\n",
       "\n",
       "    .dataframe tbody tr th {\n",
       "        vertical-align: top;\n",
       "    }\n",
       "\n",
       "    .dataframe thead th {\n",
       "        text-align: right;\n",
       "    }\n",
       "</style>\n",
       "<table border=\"1\" class=\"dataframe\">\n",
       "  <thead>\n",
       "    <tr style=\"text-align: right;\">\n",
       "      <th></th>\n",
       "      <th>gender</th>\n",
       "      <th>group</th>\n",
       "      <th>preparation_rating</th>\n",
       "      <th>CSE_dis_math_score</th>\n",
       "      <th>EEE_elctrnc_circuits_score</th>\n",
       "      <th>CSE_softwr_devlplmnt_score</th>\n",
       "      <th>Mathematics_ivs_score</th>\n",
       "      <th>Admission_fees</th>\n",
       "      <th>Education_level_of_parent</th>\n",
       "    </tr>\n",
       "  </thead>\n",
       "  <tbody>\n",
       "    <tr>\n",
       "      <th>count</th>\n",
       "      <td>1000.000000</td>\n",
       "      <td>1000.000000</td>\n",
       "      <td>1000.000000</td>\n",
       "      <td>1000.00000</td>\n",
       "      <td>1000.000000</td>\n",
       "      <td>1000.000000</td>\n",
       "      <td>1000.00000</td>\n",
       "      <td>1000.000000</td>\n",
       "      <td>1000.000000</td>\n",
       "    </tr>\n",
       "    <tr>\n",
       "      <th>mean</th>\n",
       "      <td>0.518000</td>\n",
       "      <td>2.174000</td>\n",
       "      <td>3.094000</td>\n",
       "      <td>66.08900</td>\n",
       "      <td>69.169000</td>\n",
       "      <td>68.054000</td>\n",
       "      <td>67.04400</td>\n",
       "      <td>0.645000</td>\n",
       "      <td>1.364000</td>\n",
       "    </tr>\n",
       "    <tr>\n",
       "      <th>std</th>\n",
       "      <td>0.499926</td>\n",
       "      <td>1.157179</td>\n",
       "      <td>1.827157</td>\n",
       "      <td>15.16308</td>\n",
       "      <td>14.600192</td>\n",
       "      <td>15.195657</td>\n",
       "      <td>16.70704</td>\n",
       "      <td>0.478753</td>\n",
       "      <td>1.334648</td>\n",
       "    </tr>\n",
       "    <tr>\n",
       "      <th>min</th>\n",
       "      <td>0.000000</td>\n",
       "      <td>0.000000</td>\n",
       "      <td>0.000000</td>\n",
       "      <td>0.00000</td>\n",
       "      <td>17.000000</td>\n",
       "      <td>10.000000</td>\n",
       "      <td>1.00000</td>\n",
       "      <td>0.000000</td>\n",
       "      <td>0.000000</td>\n",
       "    </tr>\n",
       "    <tr>\n",
       "      <th>25%</th>\n",
       "      <td>0.000000</td>\n",
       "      <td>1.000000</td>\n",
       "      <td>1.000000</td>\n",
       "      <td>57.00000</td>\n",
       "      <td>59.000000</td>\n",
       "      <td>57.750000</td>\n",
       "      <td>56.00000</td>\n",
       "      <td>0.000000</td>\n",
       "      <td>0.000000</td>\n",
       "    </tr>\n",
       "    <tr>\n",
       "      <th>50%</th>\n",
       "      <td>1.000000</td>\n",
       "      <td>2.000000</td>\n",
       "      <td>3.000000</td>\n",
       "      <td>66.00000</td>\n",
       "      <td>70.000000</td>\n",
       "      <td>69.000000</td>\n",
       "      <td>68.00000</td>\n",
       "      <td>1.000000</td>\n",
       "      <td>1.000000</td>\n",
       "    </tr>\n",
       "    <tr>\n",
       "      <th>75%</th>\n",
       "      <td>1.000000</td>\n",
       "      <td>3.000000</td>\n",
       "      <td>5.000000</td>\n",
       "      <td>77.00000</td>\n",
       "      <td>79.000000</td>\n",
       "      <td>79.000000</td>\n",
       "      <td>80.00000</td>\n",
       "      <td>1.000000</td>\n",
       "      <td>3.000000</td>\n",
       "    </tr>\n",
       "    <tr>\n",
       "      <th>max</th>\n",
       "      <td>1.000000</td>\n",
       "      <td>4.000000</td>\n",
       "      <td>5.000000</td>\n",
       "      <td>100.00000</td>\n",
       "      <td>100.000000</td>\n",
       "      <td>100.000000</td>\n",
       "      <td>100.00000</td>\n",
       "      <td>1.000000</td>\n",
       "      <td>4.000000</td>\n",
       "    </tr>\n",
       "  </tbody>\n",
       "</table>\n",
       "</div>"
      ],
      "text/plain": [
       "            gender        group  preparation_rating  CSE_dis_math_score  \\\n",
       "count  1000.000000  1000.000000         1000.000000          1000.00000   \n",
       "mean      0.518000     2.174000            3.094000            66.08900   \n",
       "std       0.499926     1.157179            1.827157            15.16308   \n",
       "min       0.000000     0.000000            0.000000             0.00000   \n",
       "25%       0.000000     1.000000            1.000000            57.00000   \n",
       "50%       1.000000     2.000000            3.000000            66.00000   \n",
       "75%       1.000000     3.000000            5.000000            77.00000   \n",
       "max       1.000000     4.000000            5.000000           100.00000   \n",
       "\n",
       "       EEE_elctrnc_circuits_score  CSE_softwr_devlplmnt_score  \\\n",
       "count                 1000.000000                 1000.000000   \n",
       "mean                    69.169000                   68.054000   \n",
       "std                     14.600192                   15.195657   \n",
       "min                     17.000000                   10.000000   \n",
       "25%                     59.000000                   57.750000   \n",
       "50%                     70.000000                   69.000000   \n",
       "75%                     79.000000                   79.000000   \n",
       "max                    100.000000                  100.000000   \n",
       "\n",
       "       Mathematics_ivs_score  Admission_fees  Education_level_of_parent  \n",
       "count             1000.00000     1000.000000                1000.000000  \n",
       "mean                67.04400        0.645000                   1.364000  \n",
       "std                 16.70704        0.478753                   1.334648  \n",
       "min                  1.00000        0.000000                   0.000000  \n",
       "25%                 56.00000        0.000000                   0.000000  \n",
       "50%                 68.00000        1.000000                   1.000000  \n",
       "75%                 80.00000        1.000000                   3.000000  \n",
       "max                100.00000        1.000000                   4.000000  "
      ]
     },
     "execution_count": 53,
     "metadata": {},
     "output_type": "execute_result"
    }
   ],
   "source": [
    "df.describe()"
   ]
  },
  {
   "cell_type": "code",
   "execution_count": 54,
   "id": "usual-drunk",
   "metadata": {},
   "outputs": [],
   "source": [
    "X = df.drop(columns = ['preparation_rating'])\n",
    "y = df['preparation_rating']"
   ]
  },
  {
   "cell_type": "code",
   "execution_count": 55,
   "id": "chronic-christmas",
   "metadata": {},
   "outputs": [
    {
     "data": {
      "text/html": [
       "<div>\n",
       "<style scoped>\n",
       "    .dataframe tbody tr th:only-of-type {\n",
       "        vertical-align: middle;\n",
       "    }\n",
       "\n",
       "    .dataframe tbody tr th {\n",
       "        vertical-align: top;\n",
       "    }\n",
       "\n",
       "    .dataframe thead th {\n",
       "        text-align: right;\n",
       "    }\n",
       "</style>\n",
       "<table border=\"1\" class=\"dataframe\">\n",
       "  <thead>\n",
       "    <tr style=\"text-align: right;\">\n",
       "      <th></th>\n",
       "      <th>gender</th>\n",
       "      <th>group</th>\n",
       "      <th>CSE_dis_math_score</th>\n",
       "      <th>EEE_elctrnc_circuits_score</th>\n",
       "      <th>CSE_softwr_devlplmnt_score</th>\n",
       "      <th>Mathematics_ivs_score</th>\n",
       "      <th>Admission_fees</th>\n",
       "      <th>Education_level_of_parent</th>\n",
       "    </tr>\n",
       "  </thead>\n",
       "  <tbody>\n",
       "    <tr>\n",
       "      <th>0</th>\n",
       "      <td>0</td>\n",
       "      <td>2</td>\n",
       "      <td>67</td>\n",
       "      <td>73</td>\n",
       "      <td>68</td>\n",
       "      <td>58</td>\n",
       "      <td>1</td>\n",
       "      <td>0</td>\n",
       "    </tr>\n",
       "    <tr>\n",
       "      <th>1</th>\n",
       "      <td>0</td>\n",
       "      <td>2</td>\n",
       "      <td>76</td>\n",
       "      <td>80</td>\n",
       "      <td>73</td>\n",
       "      <td>74</td>\n",
       "      <td>1</td>\n",
       "      <td>0</td>\n",
       "    </tr>\n",
       "    <tr>\n",
       "      <th>2</th>\n",
       "      <td>1</td>\n",
       "      <td>4</td>\n",
       "      <td>87</td>\n",
       "      <td>94</td>\n",
       "      <td>95</td>\n",
       "      <td>87</td>\n",
       "      <td>1</td>\n",
       "      <td>3</td>\n",
       "    </tr>\n",
       "    <tr>\n",
       "      <th>3</th>\n",
       "      <td>1</td>\n",
       "      <td>1</td>\n",
       "      <td>82</td>\n",
       "      <td>85</td>\n",
       "      <td>87</td>\n",
       "      <td>97</td>\n",
       "      <td>1</td>\n",
       "      <td>1</td>\n",
       "    </tr>\n",
       "    <tr>\n",
       "      <th>4</th>\n",
       "      <td>1</td>\n",
       "      <td>2</td>\n",
       "      <td>73</td>\n",
       "      <td>76</td>\n",
       "      <td>78</td>\n",
       "      <td>68</td>\n",
       "      <td>1</td>\n",
       "      <td>1</td>\n",
       "    </tr>\n",
       "  </tbody>\n",
       "</table>\n",
       "</div>"
      ],
      "text/plain": [
       "   gender  group  CSE_dis_math_score  EEE_elctrnc_circuits_score  \\\n",
       "0       0      2                  67                          73   \n",
       "1       0      2                  76                          80   \n",
       "2       1      4                  87                          94   \n",
       "3       1      1                  82                          85   \n",
       "4       1      2                  73                          76   \n",
       "\n",
       "   CSE_softwr_devlplmnt_score  Mathematics_ivs_score  Admission_fees  \\\n",
       "0                          68                     58               1   \n",
       "1                          73                     74               1   \n",
       "2                          95                     87               1   \n",
       "3                          87                     97               1   \n",
       "4                          78                     68               1   \n",
       "\n",
       "   Education_level_of_parent  \n",
       "0                          0  \n",
       "1                          0  \n",
       "2                          3  \n",
       "3                          1  \n",
       "4                          1  "
      ]
     },
     "execution_count": 55,
     "metadata": {},
     "output_type": "execute_result"
    }
   ],
   "source": [
    "X.head()"
   ]
  },
  {
   "cell_type": "code",
   "execution_count": 56,
   "id": "legendary-olive",
   "metadata": {},
   "outputs": [
    {
     "data": {
      "text/plain": [
       "0      5\n",
       "1      5\n",
       "2      2\n",
       "3      3\n",
       "4      4\n",
       "      ..\n",
       "795    5\n",
       "796    2\n",
       "797    0\n",
       "798    0\n",
       "799    1\n",
       "Name: preparation_rating, Length: 1000, dtype: int64"
      ]
     },
     "execution_count": 56,
     "metadata": {},
     "output_type": "execute_result"
    }
   ],
   "source": [
    "y"
   ]
  },
  {
   "cell_type": "code",
   "execution_count": 57,
   "id": "seven-vanilla",
   "metadata": {},
   "outputs": [],
   "source": [
    "scalar = StandardScaler()\n",
    "\n",
    "x_scalar = scalar.fit_transform(X)"
   ]
  },
  {
   "cell_type": "code",
   "execution_count": 58,
   "id": "animal-image",
   "metadata": {},
   "outputs": [
    {
     "data": {
      "text/plain": [
       "array([[-1.03667198, -0.15044092,  0.0601102 , ..., -0.54159955,\n",
       "         0.74188112, -1.02250369],\n",
       "       [-1.03667198, -0.15044092,  0.65395415, ...,  0.41655976,\n",
       "         0.74188112, -1.02250369],\n",
       "       [ 0.96462528,  1.57876509,  1.37976343, ...,  1.1950642 ,\n",
       "         0.74188112,  1.22640472],\n",
       "       ...,\n",
       "       [ 0.96462528,  1.57876509,  0.25805819, ...,  1.43460403,\n",
       "        -1.34792485,  1.22640472],\n",
       "       [-1.03667198,  1.57876509,  0.19207553, ..., -0.96079425,\n",
       "         0.74188112, -0.27286755],\n",
       "       [ 0.96462528, -0.15044092, -0.92962971, ..., -0.12240485,\n",
       "         0.74188112,  1.22640472]])"
      ]
     },
     "execution_count": 58,
     "metadata": {},
     "output_type": "execute_result"
    }
   ],
   "source": [
    "x_scalar"
   ]
  },
  {
   "cell_type": "code",
   "execution_count": 59,
   "id": "civic-constitutional",
   "metadata": {},
   "outputs": [],
   "source": [
    "x_train,x_test,y_train,y_test = train_test_split(x_scalar,y,test_size = 0.30, random_state= 355)"
   ]
  },
  {
   "cell_type": "code",
   "execution_count": 60,
   "id": "organizational-passage",
   "metadata": {},
   "outputs": [
    {
     "data": {
      "text/plain": [
       "DecisionTreeClassifier()"
      ]
     },
     "execution_count": 60,
     "metadata": {},
     "output_type": "execute_result"
    }
   ],
   "source": [
    "dtc = DecisionTreeClassifier()\n",
    "dtc.fit(x_train,y_train)"
   ]
  },
  {
   "cell_type": "code",
   "execution_count": 61,
   "id": "coordinate-mistress",
   "metadata": {},
   "outputs": [
    {
     "data": {
      "text/plain": [
       "['gender',\n",
       " 'group',\n",
       " 'CSE_dis_math_score',\n",
       " 'EEE_elctrnc_circuits_score',\n",
       " 'CSE_softwr_devlplmnt_score',\n",
       " 'Mathematics_ivs_score',\n",
       " 'Admission_fees',\n",
       " 'Education_level_of_parent']"
      ]
     },
     "execution_count": 61,
     "metadata": {},
     "output_type": "execute_result"
    }
   ],
   "source": [
    "feature_name=list(X.columns)\n",
    "class_name = list(y_train.unique())\n",
    "feature_name"
   ]
  },
  {
   "cell_type": "code",
   "execution_count": 62,
   "id": "constant-impact",
   "metadata": {},
   "outputs": [
    {
     "data": {
      "text/plain": [
       "1.0"
      ]
     },
     "execution_count": 62,
     "metadata": {},
     "output_type": "execute_result"
    }
   ],
   "source": [
    "dtc.score(x_train,y_train)"
   ]
  },
  {
   "cell_type": "code",
   "execution_count": 63,
   "id": "purple-france",
   "metadata": {},
   "outputs": [
    {
     "data": {
      "text/plain": [
       "0.26666666666666666"
      ]
     },
     "execution_count": 63,
     "metadata": {},
     "output_type": "execute_result"
    }
   ],
   "source": [
    "dtc.score(x_test,y_test)"
   ]
  },
  {
   "cell_type": "code",
   "execution_count": 64,
   "id": "immune-growth",
   "metadata": {},
   "outputs": [
    {
     "data": {
      "text/plain": [
       "0.26666666666666666"
      ]
     },
     "execution_count": 64,
     "metadata": {},
     "output_type": "execute_result"
    }
   ],
   "source": [
    "dtc.score(x_test,y_test)"
   ]
  },
  {
   "cell_type": "code",
   "execution_count": 65,
   "id": "threaded-sacramento",
   "metadata": {},
   "outputs": [],
   "source": [
    "# we are tuning three hyperparameters right now, we are passing the different values for both parameters\n",
    "grid_param = {\n",
    "    'criterion': ['gini', 'entropy'],\n",
    "    'max_depth' : range(2,32,1),\n",
    "    'min_samples_leaf' : range(1,10,1),\n",
    "    'min_samples_split': range(2,10,1),\n",
    "    'splitter' : ['best', 'random']\n",
    "    \n",
    "}"
   ]
  },
  {
   "cell_type": "code",
   "execution_count": 66,
   "id": "passive-ferry",
   "metadata": {},
   "outputs": [],
   "source": [
    "grid_search = GridSearchCV(estimator=dtc,\n",
    "                     param_grid=grid_param,\n",
    "                     cv=5,\n",
    "                    n_jobs =-1)"
   ]
  },
  {
   "cell_type": "code",
   "execution_count": 67,
   "id": "medieval-auction",
   "metadata": {},
   "outputs": [
    {
     "data": {
      "text/plain": [
       "GridSearchCV(cv=5, estimator=DecisionTreeClassifier(), n_jobs=-1,\n",
       "             param_grid={'criterion': ['gini', 'entropy'],\n",
       "                         'max_depth': range(2, 32),\n",
       "                         'min_samples_leaf': range(1, 10),\n",
       "                         'min_samples_split': range(2, 10),\n",
       "                         'splitter': ['best', 'random']})"
      ]
     },
     "execution_count": 67,
     "metadata": {},
     "output_type": "execute_result"
    }
   ],
   "source": [
    "grid_search.fit(x_train,y_train)"
   ]
  },
  {
   "cell_type": "code",
   "execution_count": 68,
   "id": "private-native",
   "metadata": {},
   "outputs": [
    {
     "name": "stdout",
     "output_type": "stream",
     "text": [
      "{'criterion': 'entropy', 'max_depth': 2, 'min_samples_leaf': 9, 'min_samples_split': 4, 'splitter': 'random'}\n"
     ]
    }
   ],
   "source": [
    "best_parameters = grid_search.best_params_\n",
    "print(best_parameters)"
   ]
  },
  {
   "cell_type": "code",
   "execution_count": 69,
   "id": "mature-cabin",
   "metadata": {},
   "outputs": [
    {
     "data": {
      "text/plain": [
       "0.3614285714285715"
      ]
     },
     "execution_count": 69,
     "metadata": {},
     "output_type": "execute_result"
    }
   ],
   "source": [
    "grid_search.best_score_"
   ]
  },
  {
   "cell_type": "code",
   "execution_count": 70,
   "id": "better-harvey",
   "metadata": {},
   "outputs": [
    {
     "data": {
      "text/plain": [
       "DecisionTreeClassifier(criterion='entropy', max_depth=2, min_samples_leaf=9,\n",
       "                       min_samples_split=4, splitter='random')"
      ]
     },
     "execution_count": 70,
     "metadata": {},
     "output_type": "execute_result"
    }
   ],
   "source": [
    "dtc = DecisionTreeClassifier(criterion = 'entropy', max_depth =2, min_samples_leaf= 9, min_samples_split= 4, splitter ='random')\n",
    "dtc.fit(x_train,y_train)"
   ]
  },
  {
   "cell_type": "code",
   "execution_count": 71,
   "id": "killing-infection",
   "metadata": {},
   "outputs": [
    {
     "data": {
      "text/plain": [
       "0.36666666666666664"
      ]
     },
     "execution_count": 71,
     "metadata": {},
     "output_type": "execute_result"
    }
   ],
   "source": [
    "dtc.score(x_test,y_test)"
   ]
  },
  {
   "cell_type": "code",
   "execution_count": 72,
   "id": "peripheral-carolina",
   "metadata": {},
   "outputs": [
    {
     "data": {
      "text/plain": [
       "LogisticRegression()"
      ]
     },
     "execution_count": 72,
     "metadata": {},
     "output_type": "execute_result"
    }
   ],
   "source": [
    "log_reg = LogisticRegression()\n",
    "log_reg.fit(x_train,y_train)"
   ]
  },
  {
   "cell_type": "code",
   "execution_count": 73,
   "id": "extended-optimization",
   "metadata": {},
   "outputs": [],
   "source": [
    "y_pred = log_reg.predict(x_test)"
   ]
  },
  {
   "cell_type": "code",
   "execution_count": 74,
   "id": "electric-basement",
   "metadata": {},
   "outputs": [
    {
     "data": {
      "text/plain": [
       "array([5, 4, 5, 5, 5, 5, 5, 5, 5, 4, 5, 5, 4, 2, 5, 5, 5, 5, 4, 5, 5, 5,\n",
       "       4, 5, 5, 3, 4, 5, 5, 5, 5, 5, 5, 4, 4, 5, 5, 4, 3, 3, 4, 4, 4, 5,\n",
       "       2, 4, 5, 5, 3, 5, 4, 5, 5, 5, 5, 5, 5, 5, 5, 5, 5, 5, 4, 1, 5, 1,\n",
       "       5, 5, 4, 5, 4, 5, 4, 1, 4, 5, 5, 5, 5, 5, 5, 5, 1, 5, 0, 5, 5, 5,\n",
       "       5, 5, 5, 5, 5, 4, 5, 5, 0, 5, 4, 1, 3, 5, 5, 4, 5, 5, 4, 5, 5, 5,\n",
       "       5, 4, 5, 5, 5, 5, 5, 5, 4, 5, 5, 5, 5, 5, 5, 5, 5, 5, 5, 5, 4, 5,\n",
       "       4, 4, 3, 1, 1, 3, 5, 5, 2, 4, 5, 4, 4, 1, 1, 5, 5, 5, 5, 4, 5, 5,\n",
       "       5, 5, 2, 5, 5, 5, 4, 5, 4, 5, 5, 5, 5, 5, 5, 5, 1, 3, 5, 4, 5, 3,\n",
       "       5, 0, 3, 4, 1, 5, 5, 1, 1, 5, 5, 5, 5, 5, 5, 5, 5, 5, 5, 5, 4, 5,\n",
       "       5, 5, 5, 5, 5, 5, 1, 5, 5, 5, 5, 5, 5, 5, 5, 5, 5, 2, 4, 5, 5, 4,\n",
       "       5, 5, 2, 5, 5, 5, 4, 1, 4, 3, 5, 5, 5, 5, 5, 5, 5, 5, 5, 5, 4, 4,\n",
       "       5, 5, 5, 4, 1, 5, 5, 5, 5, 4, 0, 5, 5, 5, 5, 5, 5, 2, 5, 5, 4, 2,\n",
       "       5, 5, 5, 1, 5, 5, 5, 4, 4, 4, 1, 5, 5, 4, 5, 5, 5, 5, 5, 4, 5, 5,\n",
       "       5, 2, 2, 5, 5, 2, 5, 2, 5, 5, 4, 5, 5, 5], dtype=int64)"
      ]
     },
     "execution_count": 74,
     "metadata": {},
     "output_type": "execute_result"
    }
   ],
   "source": [
    "y_pred"
   ]
  },
  {
   "cell_type": "code",
   "execution_count": 75,
   "id": "engaged-creek",
   "metadata": {},
   "outputs": [],
   "source": [
    "log_reg_ac=accuracy_score(y_pred,y_test)"
   ]
  },
  {
   "cell_type": "code",
   "execution_count": 76,
   "id": "cheap-finish",
   "metadata": {},
   "outputs": [
    {
     "data": {
      "text/plain": [
       "0.38"
      ]
     },
     "execution_count": 76,
     "metadata": {},
     "output_type": "execute_result"
    }
   ],
   "source": [
    "log_reg_ac"
   ]
  },
  {
   "cell_type": "code",
   "execution_count": 77,
   "id": "falling-profile",
   "metadata": {},
   "outputs": [],
   "source": [
    "from sklearn.ensemble import BaggingClassifier\n",
    "from sklearn.neighbors import KNeighborsClassifier"
   ]
  },
  {
   "cell_type": "code",
   "execution_count": 78,
   "id": "partial-bicycle",
   "metadata": {},
   "outputs": [],
   "source": [
    "from sklearn.datasets import load_breast_cancer\n",
    "dataset = load_breast_cancer()\n",
    "x = dataset.data\n",
    "y = dataset.target"
   ]
  },
  {
   "cell_type": "code",
   "execution_count": 79,
   "id": "featured-default",
   "metadata": {},
   "outputs": [],
   "source": [
    "from sklearn.model_selection import train_test_split\n",
    "x_train, x_test, y_train, y_test = train_test_split(\n",
    "x, y, random_state=3\n",
    ")"
   ]
  },
  {
   "cell_type": "code",
   "execution_count": 80,
   "id": "grand-wiring",
   "metadata": {},
   "outputs": [
    {
     "data": {
      "text/plain": [
       "0.9370629370629371"
      ]
     },
     "execution_count": 80,
     "metadata": {},
     "output_type": "execute_result"
    }
   ],
   "source": [
    "knn = KNeighborsClassifier(n_neighbors=10)\n",
    "knn.fit(x_train,y_train)\n",
    "knn.score(x_test,y_test)"
   ]
  },
  {
   "cell_type": "code",
   "execution_count": 81,
   "id": "explicit-august",
   "metadata": {},
   "outputs": [],
   "source": [
    "bag_knn = BaggingClassifier(KNeighborsClassifier(n_neighbors=5),\n",
    "                           n_estimators=10, max_samples=0.5,\n",
    "                           bootstrap=True, random_state=3, oob_score=True)"
   ]
  },
  {
   "cell_type": "code",
   "execution_count": 82,
   "id": "genetic-dealer",
   "metadata": {},
   "outputs": [
    {
     "data": {
      "text/plain": [
       "True"
      ]
     },
     "execution_count": 82,
     "metadata": {},
     "output_type": "execute_result"
    }
   ],
   "source": [
    "bag_knn.oob_score"
   ]
  },
  {
   "cell_type": "code",
   "execution_count": 83,
   "id": "widespread-delta",
   "metadata": {},
   "outputs": [
    {
     "data": {
      "text/plain": [
       "0.9370629370629371"
      ]
     },
     "execution_count": 83,
     "metadata": {},
     "output_type": "execute_result"
    }
   ],
   "source": [
    "bag_knn.fit(x_train,y_train)\n",
    "bag_knn.score(x_test,y_test)"
   ]
  },
  {
   "cell_type": "code",
   "execution_count": 84,
   "id": "impaired-valve",
   "metadata": {},
   "outputs": [],
   "source": [
    "pasting_knn = BaggingClassifier(KNeighborsClassifier(n_neighbors=5),\n",
    "                           n_estimators=10, max_samples=0.5, \n",
    "                                bootstrap=False, random_state=3, oob_score=False)"
   ]
  },
  {
   "cell_type": "code",
   "execution_count": 85,
   "id": "agricultural-member",
   "metadata": {},
   "outputs": [
    {
     "data": {
      "text/plain": [
       "0.9300699300699301"
      ]
     },
     "execution_count": 85,
     "metadata": {},
     "output_type": "execute_result"
    }
   ],
   "source": [
    "pasting_knn.fit(x_train,y_train)\n",
    "pasting_knn.score(x_test,y_test)"
   ]
  },
  {
   "cell_type": "code",
   "execution_count": 86,
   "id": "embedded-massage",
   "metadata": {},
   "outputs": [],
   "source": [
    "from sklearn.ensemble import RandomForestClassifier\n",
    "from sklearn.datasets import make_classification"
   ]
  },
  {
   "cell_type": "code",
   "execution_count": 87,
   "id": "corresponding-lebanon",
   "metadata": {},
   "outputs": [],
   "source": [
    "x_train,y_train = make_classification(n_samples=1000, n_features=30,\n",
    "                           n_informative=2, n_redundant=0,\n",
    "                           random_state=0, shuffle=False)"
   ]
  },
  {
   "cell_type": "code",
   "execution_count": 88,
   "id": "canadian-nurse",
   "metadata": {},
   "outputs": [],
   "source": [
    "clf = RandomForestClassifier(max_depth=3, random_state=0)"
   ]
  },
  {
   "cell_type": "code",
   "execution_count": 89,
   "id": "determined-might",
   "metadata": {},
   "outputs": [
    {
     "data": {
      "text/plain": [
       "0.6293706293706294"
      ]
     },
     "execution_count": 89,
     "metadata": {},
     "output_type": "execute_result"
    }
   ],
   "source": [
    "clf.fit(x_train,y_train)\n",
    "clf.score(x_test,y_test)"
   ]
  },
  {
   "cell_type": "code",
   "execution_count": null,
   "id": "innovative-leave",
   "metadata": {},
   "outputs": [],
   "source": []
  }
 ],
 "metadata": {
  "kernelspec": {
   "display_name": "Python 3",
   "language": "python",
   "name": "python3"
  },
  "language_info": {
   "codemirror_mode": {
    "name": "ipython",
    "version": 3
   },
   "file_extension": ".py",
   "mimetype": "text/x-python",
   "name": "python",
   "nbconvert_exporter": "python",
   "pygments_lexer": "ipython3",
   "version": "3.9.5"
  }
 },
 "nbformat": 4,
 "nbformat_minor": 5
}
