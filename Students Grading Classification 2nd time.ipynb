{
 "cells": [
  {
   "cell_type": "code",
   "execution_count": 6,
   "id": "cellular-paraguay",
   "metadata": {},
   "outputs": [],
   "source": [
    "import pandas as pd \n",
    "import numpy as np \n",
    "from sklearn.preprocessing import StandardScaler \n",
    "from sklearn.linear_model  import Ridge,Lasso,RidgeCV, LassoCV, ElasticNet, ElasticNetCV, LogisticRegression\n",
    "from sklearn.model_selection import train_test_split, GridSearchCV\n",
    "from statsmodels.stats.outliers_influence import variance_inflation_factor \n",
    "from sklearn.metrics import accuracy_score, confusion_matrix, roc_curve, roc_auc_score\n",
    "import matplotlib.pyplot as plt\n",
    "import seaborn as sns\n",
    "import scikitplot as skl\n",
    "sns.set()"
   ]
  },
  {
   "cell_type": "code",
   "execution_count": 7,
   "id": "sunrise-conducting",
   "metadata": {},
   "outputs": [],
   "source": [
    "df_test = pd.read_csv(\"test.csv\")\n",
    "df_train = pd.read_csv(\"train.csv\")"
   ]
  },
  {
   "cell_type": "code",
   "execution_count": 8,
   "id": "expensive-stocks",
   "metadata": {},
   "outputs": [],
   "source": [
    "merge_df = [df_test, df_train]"
   ]
  },
  {
   "cell_type": "code",
   "execution_count": 9,
   "id": "touched-pressure",
   "metadata": {},
   "outputs": [],
   "source": [
    "df = pd.concat(merge_df)"
   ]
  },
  {
   "cell_type": "code",
   "execution_count": 10,
   "id": "illegal-lyric",
   "metadata": {},
   "outputs": [],
   "source": [
    "df = df.drop('id', axis=1)"
   ]
  },
  {
   "cell_type": "code",
   "execution_count": 11,
   "id": "suspended-mainstream",
   "metadata": {},
   "outputs": [
    {
     "data": {
      "text/html": [
       "<div>\n",
       "<style scoped>\n",
       "    .dataframe tbody tr th:only-of-type {\n",
       "        vertical-align: middle;\n",
       "    }\n",
       "\n",
       "    .dataframe tbody tr th {\n",
       "        vertical-align: top;\n",
       "    }\n",
       "\n",
       "    .dataframe thead th {\n",
       "        text-align: right;\n",
       "    }\n",
       "</style>\n",
       "<table border=\"1\" class=\"dataframe\">\n",
       "  <thead>\n",
       "    <tr style=\"text-align: right;\">\n",
       "      <th></th>\n",
       "      <th>gender</th>\n",
       "      <th>group</th>\n",
       "      <th>preparation rating</th>\n",
       "      <th>CSE1203 Discrete Mathematics score</th>\n",
       "      <th>EEE2142 Electronic Devices and Circuits' score</th>\n",
       "      <th>CSE2200 Software Development I's score</th>\n",
       "      <th>MATH2203 Mathematics IV's score</th>\n",
       "      <th>Admission Fees</th>\n",
       "      <th>Education Level of Parents</th>\n",
       "    </tr>\n",
       "  </thead>\n",
       "  <tbody>\n",
       "    <tr>\n",
       "      <th>0</th>\n",
       "      <td>male</td>\n",
       "      <td>A3</td>\n",
       "      <td>5</td>\n",
       "      <td>67</td>\n",
       "      <td>73</td>\n",
       "      <td>68</td>\n",
       "      <td>58</td>\n",
       "      <td>standard</td>\n",
       "      <td>ED</td>\n",
       "    </tr>\n",
       "    <tr>\n",
       "      <th>1</th>\n",
       "      <td>male</td>\n",
       "      <td>A3</td>\n",
       "      <td>5</td>\n",
       "      <td>76</td>\n",
       "      <td>80</td>\n",
       "      <td>73</td>\n",
       "      <td>74</td>\n",
       "      <td>standard</td>\n",
       "      <td>ED</td>\n",
       "    </tr>\n",
       "    <tr>\n",
       "      <th>2</th>\n",
       "      <td>female</td>\n",
       "      <td>group E</td>\n",
       "      <td>2</td>\n",
       "      <td>87</td>\n",
       "      <td>94</td>\n",
       "      <td>95</td>\n",
       "      <td>87</td>\n",
       "      <td>standard</td>\n",
       "      <td>associate's degree</td>\n",
       "    </tr>\n",
       "    <tr>\n",
       "      <th>3</th>\n",
       "      <td>female</td>\n",
       "      <td>A2</td>\n",
       "      <td>3</td>\n",
       "      <td>82</td>\n",
       "      <td>85</td>\n",
       "      <td>87</td>\n",
       "      <td>97</td>\n",
       "      <td>standard</td>\n",
       "      <td>CD</td>\n",
       "    </tr>\n",
       "    <tr>\n",
       "      <th>4</th>\n",
       "      <td>female</td>\n",
       "      <td>A3</td>\n",
       "      <td>4</td>\n",
       "      <td>73</td>\n",
       "      <td>76</td>\n",
       "      <td>78</td>\n",
       "      <td>68</td>\n",
       "      <td>standard</td>\n",
       "      <td>CD</td>\n",
       "    </tr>\n",
       "    <tr>\n",
       "      <th>...</th>\n",
       "      <td>...</td>\n",
       "      <td>...</td>\n",
       "      <td>...</td>\n",
       "      <td>...</td>\n",
       "      <td>...</td>\n",
       "      <td>...</td>\n",
       "      <td>...</td>\n",
       "      <td>...</td>\n",
       "      <td>...</td>\n",
       "    </tr>\n",
       "    <tr>\n",
       "      <th>795</th>\n",
       "      <td>female</td>\n",
       "      <td>group E</td>\n",
       "      <td>5</td>\n",
       "      <td>57</td>\n",
       "      <td>68</td>\n",
       "      <td>73</td>\n",
       "      <td>77</td>\n",
       "      <td>free</td>\n",
       "      <td>associate's degree</td>\n",
       "    </tr>\n",
       "    <tr>\n",
       "      <th>796</th>\n",
       "      <td>male</td>\n",
       "      <td>A4</td>\n",
       "      <td>2</td>\n",
       "      <td>70</td>\n",
       "      <td>70</td>\n",
       "      <td>70</td>\n",
       "      <td>56</td>\n",
       "      <td>standard</td>\n",
       "      <td>ED</td>\n",
       "    </tr>\n",
       "    <tr>\n",
       "      <th>797</th>\n",
       "      <td>female</td>\n",
       "      <td>group E</td>\n",
       "      <td>0</td>\n",
       "      <td>70</td>\n",
       "      <td>84</td>\n",
       "      <td>81</td>\n",
       "      <td>91</td>\n",
       "      <td>free</td>\n",
       "      <td>associate's degree</td>\n",
       "    </tr>\n",
       "    <tr>\n",
       "      <th>798</th>\n",
       "      <td>male</td>\n",
       "      <td>group E</td>\n",
       "      <td>0</td>\n",
       "      <td>69</td>\n",
       "      <td>60</td>\n",
       "      <td>54</td>\n",
       "      <td>51</td>\n",
       "      <td>standard</td>\n",
       "      <td>CD</td>\n",
       "    </tr>\n",
       "    <tr>\n",
       "      <th>799</th>\n",
       "      <td>female</td>\n",
       "      <td>A3</td>\n",
       "      <td>1</td>\n",
       "      <td>52</td>\n",
       "      <td>55</td>\n",
       "      <td>57</td>\n",
       "      <td>65</td>\n",
       "      <td>standard</td>\n",
       "      <td>associate's degree</td>\n",
       "    </tr>\n",
       "  </tbody>\n",
       "</table>\n",
       "<p>1000 rows × 9 columns</p>\n",
       "</div>"
      ],
      "text/plain": [
       "     gender    group  preparation rating  CSE1203 Discrete Mathematics score  \\\n",
       "0      male       A3                   5                                  67   \n",
       "1      male       A3                   5                                  76   \n",
       "2    female  group E                   2                                  87   \n",
       "3    female       A2                   3                                  82   \n",
       "4    female       A3                   4                                  73   \n",
       "..      ...      ...                 ...                                 ...   \n",
       "795  female  group E                   5                                  57   \n",
       "796    male       A4                   2                                  70   \n",
       "797  female  group E                   0                                  70   \n",
       "798    male  group E                   0                                  69   \n",
       "799  female       A3                   1                                  52   \n",
       "\n",
       "     EEE2142 Electronic Devices and Circuits' score  \\\n",
       "0                                                73   \n",
       "1                                                80   \n",
       "2                                                94   \n",
       "3                                                85   \n",
       "4                                                76   \n",
       "..                                              ...   \n",
       "795                                              68   \n",
       "796                                              70   \n",
       "797                                              84   \n",
       "798                                              60   \n",
       "799                                              55   \n",
       "\n",
       "     CSE2200 Software Development I's score  MATH2203 Mathematics IV's score  \\\n",
       "0                                        68                               58   \n",
       "1                                        73                               74   \n",
       "2                                        95                               87   \n",
       "3                                        87                               97   \n",
       "4                                        78                               68   \n",
       "..                                      ...                              ...   \n",
       "795                                      73                               77   \n",
       "796                                      70                               56   \n",
       "797                                      81                               91   \n",
       "798                                      54                               51   \n",
       "799                                      57                               65   \n",
       "\n",
       "    Admission Fees Education Level of Parents  \n",
       "0         standard                         ED  \n",
       "1         standard                         ED  \n",
       "2         standard         associate's degree  \n",
       "3         standard                         CD  \n",
       "4         standard                         CD  \n",
       "..             ...                        ...  \n",
       "795           free         associate's degree  \n",
       "796       standard                         ED  \n",
       "797           free         associate's degree  \n",
       "798       standard                         CD  \n",
       "799       standard         associate's degree  \n",
       "\n",
       "[1000 rows x 9 columns]"
      ]
     },
     "execution_count": 11,
     "metadata": {},
     "output_type": "execute_result"
    }
   ],
   "source": [
    "df"
   ]
  },
  {
   "cell_type": "code",
   "execution_count": 12,
   "id": "domestic-china",
   "metadata": {},
   "outputs": [],
   "source": [
    "df = df.drop('gender', axis=1)"
   ]
  },
  {
   "cell_type": "code",
   "execution_count": 13,
   "id": "fiscal-composite",
   "metadata": {},
   "outputs": [],
   "source": [
    "df = df.drop('group', axis=1)"
   ]
  },
  {
   "cell_type": "code",
   "execution_count": 14,
   "id": "understanding-cattle",
   "metadata": {},
   "outputs": [],
   "source": [
    "df = df.drop('Admission Fees', axis=1)"
   ]
  },
  {
   "cell_type": "code",
   "execution_count": 15,
   "id": "periodic-democracy",
   "metadata": {},
   "outputs": [],
   "source": [
    "df = df.drop('Education Level of Parents', axis=1)"
   ]
  },
  {
   "cell_type": "code",
   "execution_count": 16,
   "id": "alternative-buddy",
   "metadata": {},
   "outputs": [],
   "source": [
    "df.columns=df.columns.str.replace(\"'\",'')"
   ]
  },
  {
   "cell_type": "code",
   "execution_count": 17,
   "id": "trained-spirit",
   "metadata": {},
   "outputs": [],
   "source": [
    "df.rename(columns={'preparation rating': 'target', 'CSE1203 Discrete Mathematics score': 'CSE_dis_math_score', \n",
    "                   'EEE2142 Electronic Devices and Circuits score': 'EEE_elctrnc_circuits_score', \n",
    "                   'CSE2200 Software Development Is score': 'CSE_softwr_devlplmnt_score', \n",
    "                   'MATH2203 Mathematics IVs score': 'Mathematics_ivs_score'}, inplace=True)"
   ]
  },
  {
   "cell_type": "code",
   "execution_count": 18,
   "id": "occupied-regulation",
   "metadata": {},
   "outputs": [
    {
     "data": {
      "text/html": [
       "<div>\n",
       "<style scoped>\n",
       "    .dataframe tbody tr th:only-of-type {\n",
       "        vertical-align: middle;\n",
       "    }\n",
       "\n",
       "    .dataframe tbody tr th {\n",
       "        vertical-align: top;\n",
       "    }\n",
       "\n",
       "    .dataframe thead th {\n",
       "        text-align: right;\n",
       "    }\n",
       "</style>\n",
       "<table border=\"1\" class=\"dataframe\">\n",
       "  <thead>\n",
       "    <tr style=\"text-align: right;\">\n",
       "      <th></th>\n",
       "      <th>target</th>\n",
       "      <th>CSE_dis_math_score</th>\n",
       "      <th>EEE_elctrnc_circuits_score</th>\n",
       "      <th>CSE_softwr_devlplmnt_score</th>\n",
       "      <th>Mathematics_ivs_score</th>\n",
       "    </tr>\n",
       "  </thead>\n",
       "  <tbody>\n",
       "    <tr>\n",
       "      <th>0</th>\n",
       "      <td>5</td>\n",
       "      <td>67</td>\n",
       "      <td>73</td>\n",
       "      <td>68</td>\n",
       "      <td>58</td>\n",
       "    </tr>\n",
       "    <tr>\n",
       "      <th>1</th>\n",
       "      <td>5</td>\n",
       "      <td>76</td>\n",
       "      <td>80</td>\n",
       "      <td>73</td>\n",
       "      <td>74</td>\n",
       "    </tr>\n",
       "    <tr>\n",
       "      <th>2</th>\n",
       "      <td>2</td>\n",
       "      <td>87</td>\n",
       "      <td>94</td>\n",
       "      <td>95</td>\n",
       "      <td>87</td>\n",
       "    </tr>\n",
       "    <tr>\n",
       "      <th>3</th>\n",
       "      <td>3</td>\n",
       "      <td>82</td>\n",
       "      <td>85</td>\n",
       "      <td>87</td>\n",
       "      <td>97</td>\n",
       "    </tr>\n",
       "    <tr>\n",
       "      <th>4</th>\n",
       "      <td>4</td>\n",
       "      <td>73</td>\n",
       "      <td>76</td>\n",
       "      <td>78</td>\n",
       "      <td>68</td>\n",
       "    </tr>\n",
       "    <tr>\n",
       "      <th>...</th>\n",
       "      <td>...</td>\n",
       "      <td>...</td>\n",
       "      <td>...</td>\n",
       "      <td>...</td>\n",
       "      <td>...</td>\n",
       "    </tr>\n",
       "    <tr>\n",
       "      <th>795</th>\n",
       "      <td>5</td>\n",
       "      <td>57</td>\n",
       "      <td>68</td>\n",
       "      <td>73</td>\n",
       "      <td>77</td>\n",
       "    </tr>\n",
       "    <tr>\n",
       "      <th>796</th>\n",
       "      <td>2</td>\n",
       "      <td>70</td>\n",
       "      <td>70</td>\n",
       "      <td>70</td>\n",
       "      <td>56</td>\n",
       "    </tr>\n",
       "    <tr>\n",
       "      <th>797</th>\n",
       "      <td>0</td>\n",
       "      <td>70</td>\n",
       "      <td>84</td>\n",
       "      <td>81</td>\n",
       "      <td>91</td>\n",
       "    </tr>\n",
       "    <tr>\n",
       "      <th>798</th>\n",
       "      <td>0</td>\n",
       "      <td>69</td>\n",
       "      <td>60</td>\n",
       "      <td>54</td>\n",
       "      <td>51</td>\n",
       "    </tr>\n",
       "    <tr>\n",
       "      <th>799</th>\n",
       "      <td>1</td>\n",
       "      <td>52</td>\n",
       "      <td>55</td>\n",
       "      <td>57</td>\n",
       "      <td>65</td>\n",
       "    </tr>\n",
       "  </tbody>\n",
       "</table>\n",
       "<p>1000 rows × 5 columns</p>\n",
       "</div>"
      ],
      "text/plain": [
       "     target  CSE_dis_math_score  EEE_elctrnc_circuits_score  \\\n",
       "0         5                  67                          73   \n",
       "1         5                  76                          80   \n",
       "2         2                  87                          94   \n",
       "3         3                  82                          85   \n",
       "4         4                  73                          76   \n",
       "..      ...                 ...                         ...   \n",
       "795       5                  57                          68   \n",
       "796       2                  70                          70   \n",
       "797       0                  70                          84   \n",
       "798       0                  69                          60   \n",
       "799       1                  52                          55   \n",
       "\n",
       "     CSE_softwr_devlplmnt_score  Mathematics_ivs_score  \n",
       "0                            68                     58  \n",
       "1                            73                     74  \n",
       "2                            95                     87  \n",
       "3                            87                     97  \n",
       "4                            78                     68  \n",
       "..                          ...                    ...  \n",
       "795                          73                     77  \n",
       "796                          70                     56  \n",
       "797                          81                     91  \n",
       "798                          54                     51  \n",
       "799                          57                     65  \n",
       "\n",
       "[1000 rows x 5 columns]"
      ]
     },
     "execution_count": 18,
     "metadata": {},
     "output_type": "execute_result"
    }
   ],
   "source": [
    "df"
   ]
  },
  {
   "cell_type": "code",
   "execution_count": 14,
   "id": "judicial-advertising",
   "metadata": {},
   "outputs": [
    {
     "data": {
      "text/plain": [
       "<bound method IndexOpsMixin.value_counts of 0      67\n",
       "1      76\n",
       "2      87\n",
       "3      82\n",
       "4      73\n",
       "       ..\n",
       "795    57\n",
       "796    70\n",
       "797    70\n",
       "798    69\n",
       "799    52\n",
       "Name: CSE_dis_math_score, Length: 1000, dtype: int64>"
      ]
     },
     "execution_count": 14,
     "metadata": {},
     "output_type": "execute_result"
    }
   ],
   "source": [
    "df['CSE_dis_math_score'].value_counts"
   ]
  },
  {
   "cell_type": "code",
   "execution_count": 15,
   "id": "productive-lexington",
   "metadata": {},
   "outputs": [
    {
     "data": {
      "text/plain": [
       "array([ 67,  76,  87,  82,  73,  75,  64,  41,  90,  59,  51,  45,  54,\n",
       "        72,  94,  61,  60,  77,  85,  78,  49,  71,  48,  62,  56,  65,\n",
       "        69,  68,  74,  58,  66,  39,  23,  40,  91,  80,  97,  52,  53,\n",
       "        81,  70,  43,  57,  63,  55,  93,  44,  86,  50,  88,  32,  36,\n",
       "        34,  79,  47,  46, 100,  35,  98,  84,  92,  89,   8,  38,  18,\n",
       "        33,   0,  30,  42,  27,  99,  83,  22,  96,  37,  28,  24,  26,\n",
       "        95,  29,  19], dtype=int64)"
      ]
     },
     "execution_count": 15,
     "metadata": {},
     "output_type": "execute_result"
    }
   ],
   "source": [
    "df['CSE_dis_math_score'].unique()"
   ]
  },
  {
   "cell_type": "code",
   "execution_count": 16,
   "id": "three-pastor",
   "metadata": {},
   "outputs": [
    {
     "data": {
      "text/plain": [
       "count    1000.00000\n",
       "mean       66.08900\n",
       "std        15.16308\n",
       "min         0.00000\n",
       "25%        57.00000\n",
       "50%        66.00000\n",
       "75%        77.00000\n",
       "max       100.00000\n",
       "Name: CSE_dis_math_score, dtype: float64"
      ]
     },
     "execution_count": 16,
     "metadata": {},
     "output_type": "execute_result"
    }
   ],
   "source": [
    "df['CSE_dis_math_score'].describe()"
   ]
  },
  {
   "cell_type": "code",
   "execution_count": 17,
   "id": "material-nudist",
   "metadata": {},
   "outputs": [],
   "source": [
    "df['CSE_dis_math_score'] = df['CSE_dis_math_score'].replace(0,df['CSE_dis_math_score'].mean())"
   ]
  },
  {
   "cell_type": "code",
   "execution_count": 18,
   "id": "optimum-hygiene",
   "metadata": {},
   "outputs": [
    {
     "data": {
      "text/plain": [
       "count    1000.000000\n",
       "mean       66.155089\n",
       "std        15.018072\n",
       "min         8.000000\n",
       "25%        57.000000\n",
       "50%        66.000000\n",
       "75%        77.000000\n",
       "max       100.000000\n",
       "Name: CSE_dis_math_score, dtype: float64"
      ]
     },
     "execution_count": 18,
     "metadata": {},
     "output_type": "execute_result"
    }
   ],
   "source": [
    "df['CSE_dis_math_score'].describe()"
   ]
  },
  {
   "cell_type": "code",
   "execution_count": 19,
   "id": "verified-literature",
   "metadata": {},
   "outputs": [
    {
     "data": {
      "text/plain": [
       "array([ 67.   ,  76.   ,  87.   ,  82.   ,  73.   ,  75.   ,  64.   ,\n",
       "        41.   ,  90.   ,  59.   ,  51.   ,  45.   ,  54.   ,  72.   ,\n",
       "        94.   ,  61.   ,  60.   ,  77.   ,  85.   ,  78.   ,  49.   ,\n",
       "        71.   ,  48.   ,  62.   ,  56.   ,  65.   ,  69.   ,  68.   ,\n",
       "        74.   ,  58.   ,  66.   ,  39.   ,  23.   ,  40.   ,  91.   ,\n",
       "        80.   ,  97.   ,  52.   ,  53.   ,  81.   ,  70.   ,  43.   ,\n",
       "        57.   ,  63.   ,  55.   ,  93.   ,  44.   ,  86.   ,  50.   ,\n",
       "        88.   ,  32.   ,  36.   ,  34.   ,  79.   ,  47.   ,  46.   ,\n",
       "       100.   ,  35.   ,  98.   ,  84.   ,  92.   ,  89.   ,   8.   ,\n",
       "        38.   ,  18.   ,  33.   ,  66.089,  30.   ,  42.   ,  27.   ,\n",
       "        99.   ,  83.   ,  22.   ,  96.   ,  37.   ,  28.   ,  24.   ,\n",
       "        26.   ,  95.   ,  29.   ,  19.   ])"
      ]
     },
     "execution_count": 19,
     "metadata": {},
     "output_type": "execute_result"
    }
   ],
   "source": [
    "df['CSE_dis_math_score'].unique()"
   ]
  },
  {
   "cell_type": "code",
   "execution_count": 20,
   "id": "sapphire-athens",
   "metadata": {},
   "outputs": [
    {
     "data": {
      "text/plain": [
       "array([ 73,  80,  94,  85,  76,  81,  74,  45,  75,  54,  31,  47,  64,\n",
       "        84,  86,  59,  70,  72,  91,  90,  52,  87,  58,  67,  68,  69,\n",
       "        60,  82,  50,  57,  77,  44,  65,  97,  79,  49,  62,  42,  71,\n",
       "        93,  53,  51,  61,  46, 100,  92,  34,  29,  78,  48,  96,  66,\n",
       "        56,  43,  63,  41,  95,  24,  99,  55,  83,  89,  32,  17,  39,\n",
       "        37,  26,  88,  28,  23,  38,  40], dtype=int64)"
      ]
     },
     "execution_count": 20,
     "metadata": {},
     "output_type": "execute_result"
    }
   ],
   "source": [
    "df['EEE_elctrnc_circuits_score'].unique()"
   ]
  },
  {
   "cell_type": "code",
   "execution_count": 21,
   "id": "visible-shipping",
   "metadata": {},
   "outputs": [
    {
     "data": {
      "text/plain": [
       "array([ 68,  73,  95,  87,  78,  74,  75,  40,  69,  51,  36,  49,  67,\n",
       "        76,  83,  64,  88,  92,  93,  82,  52,  58,  70,  81,  53,  57,\n",
       "        89,  45,  79,  46,  84,  85,  50,  63,  61,  55,  96,  65,  72,\n",
       "        38,  80,  91,  41,  47,  66,  54,  71,  44,  59,  48,  27, 100,\n",
       "        77,  60,  62,  90,  94,  23,  86,  39,  43,  28,  42,  10,  34,\n",
       "        37,  56,  22,  98,  33,  19,  35,  32,  97,  99,  15,  30],\n",
       "      dtype=int64)"
      ]
     },
     "execution_count": 21,
     "metadata": {},
     "output_type": "execute_result"
    }
   ],
   "source": [
    "df['CSE_softwr_devlplmnt_score'].unique()"
   ]
  },
  {
   "cell_type": "code",
   "execution_count": 22,
   "id": "valuable-large",
   "metadata": {},
   "outputs": [
    {
     "data": {
      "text/plain": [
       "array([ 58,  74,  87,  97,  68,  69,  86,  26,  81,  52,  24,  51,  62,\n",
       "        95,  63,  59,  75,  78,  92,  40,  54,  65,  93,  56,  60,  96,\n",
       "        55,  90,  47,  89,  85,  35,  23,  64,  61,  72,  80,  71,  98,\n",
       "        70,  37,  25, 100,  49,  77,  76,  83,  50,  53,  41,  36,  79,\n",
       "        33,  44,  66,  57,  45,  73,  46,  48,  38,  88,  84,  99,  39,\n",
       "        29,  94,  42,  14,  43,  67,   1,  21,  20,  91,  82,  28,  34,\n",
       "        31,  18,  30], dtype=int64)"
      ]
     },
     "execution_count": 22,
     "metadata": {},
     "output_type": "execute_result"
    }
   ],
   "source": [
    "df['Mathematics_ivs_score'].unique()"
   ]
  },
  {
   "cell_type": "code",
   "execution_count": 23,
   "id": "union-carbon",
   "metadata": {},
   "outputs": [
    {
     "data": {
      "text/plain": [
       "count    1000.00000\n",
       "mean       67.04400\n",
       "std        16.70704\n",
       "min         1.00000\n",
       "25%        56.00000\n",
       "50%        68.00000\n",
       "75%        80.00000\n",
       "max       100.00000\n",
       "Name: Mathematics_ivs_score, dtype: float64"
      ]
     },
     "execution_count": 23,
     "metadata": {},
     "output_type": "execute_result"
    }
   ],
   "source": [
    "df['Mathematics_ivs_score'].describe()"
   ]
  },
  {
   "cell_type": "code",
   "execution_count": 24,
   "id": "clean-adult",
   "metadata": {},
   "outputs": [],
   "source": [
    "df['Mathematics_ivs_score'] = df['Mathematics_ivs_score'].replace(1,df['Mathematics_ivs_score'].mean())"
   ]
  },
  {
   "cell_type": "code",
   "execution_count": 25,
   "id": "referenced-resort",
   "metadata": {},
   "outputs": [
    {
     "data": {
      "text/plain": [
       "count    1000.000000\n",
       "mean       67.110044\n",
       "std        16.575725\n",
       "min        14.000000\n",
       "25%        56.000000\n",
       "50%        68.000000\n",
       "75%        80.000000\n",
       "max       100.000000\n",
       "Name: Mathematics_ivs_score, dtype: float64"
      ]
     },
     "execution_count": 25,
     "metadata": {},
     "output_type": "execute_result"
    }
   ],
   "source": [
    "df['Mathematics_ivs_score'].describe()"
   ]
  },
  {
   "cell_type": "code",
   "execution_count": 26,
   "id": "accompanied-spelling",
   "metadata": {},
   "outputs": [
    {
     "data": {
      "text/plain": [
       "array([ 58.   ,  74.   ,  87.   ,  97.   ,  68.   ,  69.   ,  86.   ,\n",
       "        26.   ,  81.   ,  52.   ,  24.   ,  51.   ,  62.   ,  95.   ,\n",
       "        63.   ,  59.   ,  75.   ,  78.   ,  92.   ,  40.   ,  54.   ,\n",
       "        65.   ,  93.   ,  56.   ,  60.   ,  96.   ,  55.   ,  90.   ,\n",
       "        47.   ,  89.   ,  85.   ,  35.   ,  23.   ,  64.   ,  61.   ,\n",
       "        72.   ,  80.   ,  71.   ,  98.   ,  70.   ,  37.   ,  25.   ,\n",
       "       100.   ,  49.   ,  77.   ,  76.   ,  83.   ,  50.   ,  53.   ,\n",
       "        41.   ,  36.   ,  79.   ,  33.   ,  44.   ,  66.   ,  57.   ,\n",
       "        45.   ,  73.   ,  46.   ,  48.   ,  38.   ,  88.   ,  84.   ,\n",
       "        99.   ,  39.   ,  29.   ,  94.   ,  42.   ,  14.   ,  43.   ,\n",
       "        67.   ,  67.044,  21.   ,  20.   ,  91.   ,  82.   ,  28.   ,\n",
       "        34.   ,  31.   ,  18.   ,  30.   ])"
      ]
     },
     "execution_count": 26,
     "metadata": {},
     "output_type": "execute_result"
    }
   ],
   "source": [
    "df['Mathematics_ivs_score'].unique()"
   ]
  },
  {
   "cell_type": "code",
   "execution_count": 27,
   "id": "foreign-license",
   "metadata": {},
   "outputs": [],
   "source": [
    "X = df.drop(columns = ['target'])\n",
    "y = df['target']"
   ]
  },
  {
   "cell_type": "code",
   "execution_count": 28,
   "id": "running-influence",
   "metadata": {},
   "outputs": [],
   "source": [
    "scalar = StandardScaler()\n",
    "X_scaled = scalar.fit_transform(X)"
   ]
  },
  {
   "cell_type": "code",
   "execution_count": 29,
   "id": "animal-healthcare",
   "metadata": {},
   "outputs": [
    {
     "data": {
      "text/plain": [
       "array([[ 0.05628777,  0.26252511, -0.00355543, -0.54987656],\n",
       "       [ 0.65586561,  0.74221076,  0.3256506 ,  0.41587344],\n",
       "       [ 1.38868297,  1.70158207,  1.77415712,  1.20054531],\n",
       "       ...,\n",
       "       [ 0.25614705,  1.01631685,  0.85238025,  1.44198281],\n",
       "       [ 0.18952729, -0.62831968, -0.9253323 , -0.97239218],\n",
       "       [-0.94300863, -0.97095229, -0.72780869, -0.12736094]])"
      ]
     },
     "execution_count": 29,
     "metadata": {},
     "output_type": "execute_result"
    }
   ],
   "source": [
    "X_scaled"
   ]
  },
  {
   "cell_type": "code",
   "execution_count": 30,
   "id": "linear-commission",
   "metadata": {},
   "outputs": [],
   "source": [
    "x_train,x_test,y_train,y_test = train_test_split(X_scaled,y, test_size= 0.25, random_state = 355)"
   ]
  },
  {
   "cell_type": "code",
   "execution_count": 31,
   "id": "constitutional-harmony",
   "metadata": {},
   "outputs": [
    {
     "data": {
      "text/plain": [
       "DecisionTreeClassifier()"
      ]
     },
     "execution_count": 31,
     "metadata": {},
     "output_type": "execute_result"
    }
   ],
   "source": [
    "from sklearn.tree import DecisionTreeClassifier, export_graphviz\n",
    "dtc = DecisionTreeClassifier()\n",
    "dtc.fit(x_train,y_train)"
   ]
  },
  {
   "cell_type": "code",
   "execution_count": 32,
   "id": "assigned-tomorrow",
   "metadata": {},
   "outputs": [
    {
     "data": {
      "text/plain": [
       "0.9986666666666667"
      ]
     },
     "execution_count": 32,
     "metadata": {},
     "output_type": "execute_result"
    }
   ],
   "source": [
    "dtc.score(x_train,y_train)"
   ]
  },
  {
   "cell_type": "code",
   "execution_count": 33,
   "id": "average-interaction",
   "metadata": {},
   "outputs": [
    {
     "data": {
      "text/plain": [
       "0.284"
      ]
     },
     "execution_count": 33,
     "metadata": {},
     "output_type": "execute_result"
    }
   ],
   "source": [
    "dtc.score(x_test,y_test)"
   ]
  },
  {
   "cell_type": "code",
   "execution_count": 34,
   "id": "digital-inclusion",
   "metadata": {},
   "outputs": [
    {
     "data": {
      "text/plain": [
       "0.284"
      ]
     },
     "execution_count": 34,
     "metadata": {},
     "output_type": "execute_result"
    }
   ],
   "source": [
    "dtc.score(x_test,y_test)"
   ]
  },
  {
   "cell_type": "code",
   "execution_count": 35,
   "id": "continuing-aaron",
   "metadata": {},
   "outputs": [],
   "source": [
    "# we are tuning three hyperparameters right now, we are passing the different values for both parameters\n",
    "grid_param = {\n",
    "    'criterion': ['gini', 'entropy'],\n",
    "    'max_depth' : range(2,32,1),\n",
    "    'min_samples_leaf' : range(1,10,1),\n",
    "    'min_samples_split': range(2,10,1),\n",
    "    'splitter' : ['best', 'random']\n",
    "    \n",
    "}"
   ]
  },
  {
   "cell_type": "code",
   "execution_count": 36,
   "id": "facial-making",
   "metadata": {},
   "outputs": [],
   "source": [
    "import graphviz\n",
    "from sklearn.tree import export_graphviz"
   ]
  },
  {
   "cell_type": "code",
   "execution_count": 37,
   "id": "verbal-surrey",
   "metadata": {},
   "outputs": [],
   "source": [
    "grid_search = GridSearchCV(estimator=dtc,\n",
    "                     param_grid=grid_param,\n",
    "                     cv=5,\n",
    "                    n_jobs =-1)"
   ]
  },
  {
   "cell_type": "code",
   "execution_count": 38,
   "id": "anonymous-arbor",
   "metadata": {},
   "outputs": [
    {
     "data": {
      "text/plain": [
       "GridSearchCV(cv=5, estimator=DecisionTreeClassifier(), n_jobs=-1,\n",
       "             param_grid={'criterion': ['gini', 'entropy'],\n",
       "                         'max_depth': range(2, 32),\n",
       "                         'min_samples_leaf': range(1, 10),\n",
       "                         'min_samples_split': range(2, 10),\n",
       "                         'splitter': ['best', 'random']})"
      ]
     },
     "execution_count": 38,
     "metadata": {},
     "output_type": "execute_result"
    }
   ],
   "source": [
    "grid_search.fit(x_train,y_train)"
   ]
  },
  {
   "cell_type": "code",
   "execution_count": 39,
   "id": "varying-winter",
   "metadata": {},
   "outputs": [
    {
     "name": "stdout",
     "output_type": "stream",
     "text": [
      "{'criterion': 'entropy', 'max_depth': 4, 'min_samples_leaf': 6, 'min_samples_split': 4, 'splitter': 'random'}\n"
     ]
    }
   ],
   "source": [
    "best_parameters = grid_search.best_params_\n",
    "print(best_parameters)"
   ]
  },
  {
   "cell_type": "code",
   "execution_count": 40,
   "id": "tight-thomson",
   "metadata": {},
   "outputs": [
    {
     "data": {
      "text/plain": [
       "0.368"
      ]
     },
     "execution_count": 40,
     "metadata": {},
     "output_type": "execute_result"
    }
   ],
   "source": [
    "grid_search.best_score_"
   ]
  },
  {
   "cell_type": "code",
   "execution_count": 41,
   "id": "miniature-feeding",
   "metadata": {},
   "outputs": [
    {
     "data": {
      "text/plain": [
       "DecisionTreeClassifier(criterion='entropy', max_depth=4, min_samples_leaf=6,\n",
       "                       min_samples_split=4, splitter='random')"
      ]
     },
     "execution_count": 41,
     "metadata": {},
     "output_type": "execute_result"
    }
   ],
   "source": [
    "dtc = DecisionTreeClassifier(criterion = 'entropy', max_depth =4, min_samples_leaf= 6, min_samples_split= 4, splitter ='random')\n",
    "dtc.fit(x_train,y_train)"
   ]
  },
  {
   "cell_type": "code",
   "execution_count": 42,
   "id": "third-chocolate",
   "metadata": {},
   "outputs": [
    {
     "data": {
      "text/plain": [
       "0.376"
      ]
     },
     "execution_count": 42,
     "metadata": {},
     "output_type": "execute_result"
    }
   ],
   "source": [
    "dtc.score(x_test,y_test)"
   ]
  },
  {
   "cell_type": "code",
   "execution_count": 43,
   "id": "broad-shark",
   "metadata": {},
   "outputs": [
    {
     "data": {
      "text/plain": [
       "LogisticRegression()"
      ]
     },
     "execution_count": 43,
     "metadata": {},
     "output_type": "execute_result"
    }
   ],
   "source": [
    "log_reg = LogisticRegression()\n",
    "\n",
    "log_reg.fit(x_train,y_train)"
   ]
  },
  {
   "cell_type": "code",
   "execution_count": 44,
   "id": "potential-diana",
   "metadata": {},
   "outputs": [],
   "source": [
    "y_pred = log_reg.predict(x_test)"
   ]
  },
  {
   "cell_type": "code",
   "execution_count": 45,
   "id": "accredited-wagner",
   "metadata": {},
   "outputs": [
    {
     "data": {
      "text/plain": [
       "array([5, 5, 5, 5, 5, 5, 5, 5, 5, 4, 5, 5, 4, 5, 5, 5, 5, 5, 4, 5, 5, 5,\n",
       "       5, 5, 5, 4, 4, 5, 5, 5, 5, 5, 5, 5, 5, 4, 5, 4, 4, 5, 4, 5, 4, 5,\n",
       "       5, 4, 5, 5, 5, 5, 4, 5, 5, 5, 4, 5, 5, 5, 5, 1, 5, 5, 4, 5, 5, 5,\n",
       "       5, 5, 5, 5, 4, 5, 4, 5, 5, 5, 5, 5, 4, 5, 5, 5, 5, 5, 4, 5, 5, 5,\n",
       "       5, 4, 4, 5, 5, 5, 5, 4, 4, 5, 4, 5, 5, 5, 5, 5, 5, 4, 4, 5, 5, 5,\n",
       "       5, 4, 5, 5, 5, 5, 5, 5, 4, 5, 5, 5, 5, 5, 5, 5, 5, 5, 5, 5, 5, 5,\n",
       "       5, 4, 5, 5, 5, 5, 5, 5, 5, 4, 5, 4, 4, 4, 5, 5, 5, 5, 5, 4, 5, 5,\n",
       "       5, 5, 5, 5, 5, 5, 5, 5, 4, 5, 5, 5, 5, 5, 5, 4, 4, 4, 5, 4, 5, 5,\n",
       "       5, 4, 4, 4, 4, 5, 5, 4, 5, 5, 5, 5, 5, 5, 5, 4, 5, 5, 5, 5, 4, 5,\n",
       "       5, 5, 5, 5, 5, 5, 5, 5, 5, 5, 5, 5, 5, 5, 5, 5, 5, 1, 4, 5, 5, 4,\n",
       "       5, 5, 5, 5, 5, 5, 4, 1, 4, 4, 5, 5, 5, 5, 5, 5, 5, 5, 5, 5, 4, 4,\n",
       "       5, 5, 5, 5, 5, 5, 5, 5], dtype=int64)"
      ]
     },
     "execution_count": 45,
     "metadata": {},
     "output_type": "execute_result"
    }
   ],
   "source": [
    "y_pred"
   ]
  },
  {
   "cell_type": "code",
   "execution_count": 46,
   "id": "formal-legislation",
   "metadata": {},
   "outputs": [
    {
     "data": {
      "text/plain": [
       "0.372"
      ]
     },
     "execution_count": 46,
     "metadata": {},
     "output_type": "execute_result"
    }
   ],
   "source": [
    "accuracy = accuracy_score(y_test,y_pred)\n",
    "accuracy"
   ]
  },
  {
   "cell_type": "code",
   "execution_count": 47,
   "id": "usual-incentive",
   "metadata": {},
   "outputs": [
    {
     "data": {
      "text/plain": [
       "array([[ 0,  0,  0,  0, 10, 26],\n",
       "       [ 0,  1,  0,  0,  6, 23],\n",
       "       [ 0,  1,  0,  0, 10, 17],\n",
       "       [ 0,  1,  0,  0,  8, 22],\n",
       "       [ 0,  0,  0,  0, 10, 25],\n",
       "       [ 0,  0,  0,  0,  8, 82]], dtype=int64)"
      ]
     },
     "execution_count": 47,
     "metadata": {},
     "output_type": "execute_result"
    }
   ],
   "source": [
    "# Confusion Matrix\n",
    "conf_mat = confusion_matrix(y_test,y_pred)\n",
    "conf_mat"
   ]
  },
  {
   "cell_type": "code",
   "execution_count": 48,
   "id": "stuck-lunch",
   "metadata": {},
   "outputs": [],
   "source": [
    "from sklearn.ensemble import BaggingClassifier\n",
    "from sklearn.neighbors import KNeighborsClassifier"
   ]
  },
  {
   "cell_type": "code",
   "execution_count": 49,
   "id": "different-chicken",
   "metadata": {},
   "outputs": [],
   "source": [
    "from sklearn.datasets import load_breast_cancer\n",
    "dataset = load_breast_cancer()\n",
    "x = dataset.data\n",
    "y = dataset.target"
   ]
  },
  {
   "cell_type": "code",
   "execution_count": 50,
   "id": "british-journalism",
   "metadata": {},
   "outputs": [],
   "source": [
    "from sklearn.model_selection import train_test_split\n",
    "x_train, x_test, y_train, y_test = train_test_split(\n",
    "x, y, random_state=3\n",
    ")"
   ]
  },
  {
   "cell_type": "code",
   "execution_count": 51,
   "id": "simplified-speaking",
   "metadata": {},
   "outputs": [
    {
     "data": {
      "text/plain": [
       "0.9370629370629371"
      ]
     },
     "execution_count": 51,
     "metadata": {},
     "output_type": "execute_result"
    }
   ],
   "source": [
    "knn = KNeighborsClassifier(n_neighbors=10)\n",
    "knn.fit(x_train,y_train)\n",
    "knn.score(x_test,y_test)"
   ]
  },
  {
   "cell_type": "code",
   "execution_count": 52,
   "id": "raised-blind",
   "metadata": {},
   "outputs": [],
   "source": [
    "bag_knn = BaggingClassifier(KNeighborsClassifier(n_neighbors=5),\n",
    "                           n_estimators=10, max_samples=0.5,\n",
    "                           bootstrap=True, random_state=3, oob_score=True)"
   ]
  },
  {
   "cell_type": "code",
   "execution_count": 53,
   "id": "young-georgia",
   "metadata": {},
   "outputs": [
    {
     "data": {
      "text/plain": [
       "True"
      ]
     },
     "execution_count": 53,
     "metadata": {},
     "output_type": "execute_result"
    }
   ],
   "source": [
    "bag_knn.oob_score"
   ]
  },
  {
   "cell_type": "code",
   "execution_count": 54,
   "id": "ready-hayes",
   "metadata": {},
   "outputs": [
    {
     "data": {
      "text/plain": [
       "0.9370629370629371"
      ]
     },
     "execution_count": 54,
     "metadata": {},
     "output_type": "execute_result"
    }
   ],
   "source": [
    "bag_knn.fit(x_train,y_train)\n",
    "bag_knn.score(x_test,y_test)"
   ]
  },
  {
   "cell_type": "code",
   "execution_count": 55,
   "id": "static-maple",
   "metadata": {},
   "outputs": [],
   "source": [
    "pasting_knn = BaggingClassifier(KNeighborsClassifier(n_neighbors=5),\n",
    "                           n_estimators=10, max_samples=0.5, \n",
    "                                bootstrap=False, random_state=3, oob_score=False)"
   ]
  },
  {
   "cell_type": "code",
   "execution_count": 56,
   "id": "lonely-morris",
   "metadata": {},
   "outputs": [
    {
     "data": {
      "text/plain": [
       "0.9300699300699301"
      ]
     },
     "execution_count": 56,
     "metadata": {},
     "output_type": "execute_result"
    }
   ],
   "source": [
    "pasting_knn.fit(x_train,y_train)\n",
    "pasting_knn.score(x_test,y_test)"
   ]
  },
  {
   "cell_type": "code",
   "execution_count": 57,
   "id": "collaborative-frank",
   "metadata": {},
   "outputs": [],
   "source": [
    "from sklearn.ensemble import RandomForestClassifier\n",
    "from sklearn.datasets import make_classification"
   ]
  },
  {
   "cell_type": "code",
   "execution_count": 58,
   "id": "common-baker",
   "metadata": {},
   "outputs": [],
   "source": [
    "x_train,y_train = make_classification(n_samples=1000, n_features=30,\n",
    "                           n_informative=2, n_redundant=0,\n",
    "                           random_state=0, shuffle=False)"
   ]
  },
  {
   "cell_type": "code",
   "execution_count": 59,
   "id": "integral-solid",
   "metadata": {},
   "outputs": [],
   "source": [
    "clf = RandomForestClassifier(max_depth=3, random_state=0)"
   ]
  },
  {
   "cell_type": "code",
   "execution_count": 60,
   "id": "nominated-discovery",
   "metadata": {},
   "outputs": [
    {
     "data": {
      "text/plain": [
       "0.6293706293706294"
      ]
     },
     "execution_count": 60,
     "metadata": {},
     "output_type": "execute_result"
    }
   ],
   "source": [
    "clf.fit(x_train,y_train)\n",
    "clf.score(x_test,y_test)"
   ]
  },
  {
   "cell_type": "code",
   "execution_count": 64,
   "id": "forty-comparison",
   "metadata": {},
   "outputs": [],
   "source": [
    "import pickle\n",
    "with open('StudentGradingmodelForPrediction.sav', 'wb') as f:\n",
    "    pickle.dump(dtc,f)\n",
    "    \n",
    "with open('sandardScalar.sav', 'wb') as f:\n",
    "    pickle.dump(scalar,f)"
   ]
  },
  {
   "cell_type": "code",
   "execution_count": null,
   "id": "abroad-beauty",
   "metadata": {},
   "outputs": [],
   "source": []
  }
 ],
 "metadata": {
  "kernelspec": {
   "display_name": "Python 3",
   "language": "python",
   "name": "python3"
  },
  "language_info": {
   "codemirror_mode": {
    "name": "ipython",
    "version": 3
   },
   "file_extension": ".py",
   "mimetype": "text/x-python",
   "name": "python",
   "nbconvert_exporter": "python",
   "pygments_lexer": "ipython3",
   "version": "3.6.9"
  }
 },
 "nbformat": 4,
 "nbformat_minor": 5
}
